{
 "cells": [
  {
   "cell_type": "code",
   "execution_count": 7,
   "metadata": {},
   "outputs": [],
   "source": [
    "import pandas as pd\n",
    "import numpy as np\n",
    "import joblib"
   ]
  },
  {
   "cell_type": "markdown",
   "id": "57d9faf6",
   "metadata": {},
   "source": [
    "Importing train, test and validation dataset"
   ]
  },
  {
   "cell_type": "code",
   "execution_count": 8,
   "id": "0faec604",
   "metadata": {},
   "outputs": [],
   "source": [
    "train = pd.read_csv(\"data/train.csv\")\n",
    "test = pd.read_csv(\"data/test.csv\")"
   ]
  },
  {
   "cell_type": "code",
   "execution_count": 9,
   "id": "9cd114ae",
   "metadata": {},
   "outputs": [
    {
     "data": {
      "text/html": [
       "<div>\n",
       "<style scoped>\n",
       "    .dataframe tbody tr th:only-of-type {\n",
       "        vertical-align: middle;\n",
       "    }\n",
       "\n",
       "    .dataframe tbody tr th {\n",
       "        vertical-align: top;\n",
       "    }\n",
       "\n",
       "    .dataframe thead th {\n",
       "        text-align: right;\n",
       "    }\n",
       "</style>\n",
       "<table border=\"1\" class=\"dataframe\">\n",
       "  <thead>\n",
       "    <tr style=\"text-align: right;\">\n",
       "      <th></th>\n",
       "      <th>Serviced</th>\n",
       "      <th>Newly Built</th>\n",
       "      <th>Furnished</th>\n",
       "      <th>Bedrooms</th>\n",
       "      <th>Bathrooms</th>\n",
       "      <th>Toilets</th>\n",
       "      <th>City_Lekki</th>\n",
       "      <th>City_Ajah</th>\n",
       "      <th>City_Yaba</th>\n",
       "      <th>City_Ikoyi</th>\n",
       "      <th>...</th>\n",
       "      <th>Neighborhood_Oworonshoki</th>\n",
       "      <th>Neighborhood_Awolowo Road</th>\n",
       "      <th>Neighborhood_1004</th>\n",
       "      <th>Property Type_Self-contained</th>\n",
       "      <th>Property Type_Fully Detached Duplex</th>\n",
       "      <th>Property Type_Flat</th>\n",
       "      <th>Property Type_Apartment</th>\n",
       "      <th>Property Type_Terraced Duplex</th>\n",
       "      <th>Property Type_Semi Detached Duplex</th>\n",
       "      <th>Price</th>\n",
       "    </tr>\n",
       "  </thead>\n",
       "  <tbody>\n",
       "    <tr>\n",
       "      <th>0</th>\n",
       "      <td>0</td>\n",
       "      <td>0</td>\n",
       "      <td>0</td>\n",
       "      <td>1</td>\n",
       "      <td>1</td>\n",
       "      <td>1</td>\n",
       "      <td>1</td>\n",
       "      <td>0</td>\n",
       "      <td>0</td>\n",
       "      <td>0</td>\n",
       "      <td>...</td>\n",
       "      <td>0</td>\n",
       "      <td>0</td>\n",
       "      <td>0</td>\n",
       "      <td>1</td>\n",
       "      <td>0</td>\n",
       "      <td>0</td>\n",
       "      <td>0</td>\n",
       "      <td>0</td>\n",
       "      <td>0</td>\n",
       "      <td>1000000.0</td>\n",
       "    </tr>\n",
       "    <tr>\n",
       "      <th>1</th>\n",
       "      <td>0</td>\n",
       "      <td>1</td>\n",
       "      <td>1</td>\n",
       "      <td>4</td>\n",
       "      <td>5</td>\n",
       "      <td>6</td>\n",
       "      <td>0</td>\n",
       "      <td>1</td>\n",
       "      <td>0</td>\n",
       "      <td>0</td>\n",
       "      <td>...</td>\n",
       "      <td>0</td>\n",
       "      <td>0</td>\n",
       "      <td>0</td>\n",
       "      <td>0</td>\n",
       "      <td>1</td>\n",
       "      <td>0</td>\n",
       "      <td>0</td>\n",
       "      <td>0</td>\n",
       "      <td>0</td>\n",
       "      <td>2500000.0</td>\n",
       "    </tr>\n",
       "    <tr>\n",
       "      <th>2</th>\n",
       "      <td>0</td>\n",
       "      <td>0</td>\n",
       "      <td>0</td>\n",
       "      <td>3</td>\n",
       "      <td>2</td>\n",
       "      <td>3</td>\n",
       "      <td>0</td>\n",
       "      <td>0</td>\n",
       "      <td>1</td>\n",
       "      <td>0</td>\n",
       "      <td>...</td>\n",
       "      <td>0</td>\n",
       "      <td>0</td>\n",
       "      <td>0</td>\n",
       "      <td>0</td>\n",
       "      <td>0</td>\n",
       "      <td>1</td>\n",
       "      <td>0</td>\n",
       "      <td>0</td>\n",
       "      <td>0</td>\n",
       "      <td>1800000.0</td>\n",
       "    </tr>\n",
       "    <tr>\n",
       "      <th>3</th>\n",
       "      <td>1</td>\n",
       "      <td>0</td>\n",
       "      <td>0</td>\n",
       "      <td>3</td>\n",
       "      <td>3</td>\n",
       "      <td>4</td>\n",
       "      <td>0</td>\n",
       "      <td>0</td>\n",
       "      <td>0</td>\n",
       "      <td>1</td>\n",
       "      <td>...</td>\n",
       "      <td>0</td>\n",
       "      <td>0</td>\n",
       "      <td>0</td>\n",
       "      <td>0</td>\n",
       "      <td>0</td>\n",
       "      <td>1</td>\n",
       "      <td>0</td>\n",
       "      <td>0</td>\n",
       "      <td>0</td>\n",
       "      <td>5000000.0</td>\n",
       "    </tr>\n",
       "    <tr>\n",
       "      <th>4</th>\n",
       "      <td>0</td>\n",
       "      <td>0</td>\n",
       "      <td>0</td>\n",
       "      <td>2</td>\n",
       "      <td>2</td>\n",
       "      <td>3</td>\n",
       "      <td>1</td>\n",
       "      <td>0</td>\n",
       "      <td>0</td>\n",
       "      <td>0</td>\n",
       "      <td>...</td>\n",
       "      <td>0</td>\n",
       "      <td>0</td>\n",
       "      <td>0</td>\n",
       "      <td>0</td>\n",
       "      <td>0</td>\n",
       "      <td>1</td>\n",
       "      <td>0</td>\n",
       "      <td>0</td>\n",
       "      <td>0</td>\n",
       "      <td>2500000.0</td>\n",
       "    </tr>\n",
       "  </tbody>\n",
       "</table>\n",
       "<p>5 rows × 91 columns</p>\n",
       "</div>"
      ],
      "text/plain": [
       "   Serviced  Newly Built  Furnished  Bedrooms  Bathrooms  Toilets  City_Lekki  \\\n",
       "0         0            0          0         1          1        1           1   \n",
       "1         0            1          1         4          5        6           0   \n",
       "2         0            0          0         3          2        3           0   \n",
       "3         1            0          0         3          3        4           0   \n",
       "4         0            0          0         2          2        3           1   \n",
       "\n",
       "   City_Ajah  City_Yaba  City_Ikoyi  ...  Neighborhood_Oworonshoki  \\\n",
       "0          0          0           0  ...                         0   \n",
       "1          1          0           0  ...                         0   \n",
       "2          0          1           0  ...                         0   \n",
       "3          0          0           1  ...                         0   \n",
       "4          0          0           0  ...                         0   \n",
       "\n",
       "   Neighborhood_Awolowo Road  Neighborhood_1004  Property Type_Self-contained  \\\n",
       "0                          0                  0                             1   \n",
       "1                          0                  0                             0   \n",
       "2                          0                  0                             0   \n",
       "3                          0                  0                             0   \n",
       "4                          0                  0                             0   \n",
       "\n",
       "   Property Type_Fully Detached Duplex  Property Type_Flat  \\\n",
       "0                                    0                   0   \n",
       "1                                    1                   0   \n",
       "2                                    0                   1   \n",
       "3                                    0                   1   \n",
       "4                                    0                   1   \n",
       "\n",
       "   Property Type_Apartment  Property Type_Terraced Duplex  \\\n",
       "0                        0                              0   \n",
       "1                        0                              0   \n",
       "2                        0                              0   \n",
       "3                        0                              0   \n",
       "4                        0                              0   \n",
       "\n",
       "   Property Type_Semi Detached Duplex      Price  \n",
       "0                                   0  1000000.0  \n",
       "1                                   0  2500000.0  \n",
       "2                                   0  1800000.0  \n",
       "3                                   0  5000000.0  \n",
       "4                                   0  2500000.0  \n",
       "\n",
       "[5 rows x 91 columns]"
      ]
     },
     "execution_count": 9,
     "metadata": {},
     "output_type": "execute_result"
    }
   ],
   "source": [
    "train.head()"
   ]
  },
  {
   "cell_type": "code",
   "execution_count": 10,
   "metadata": {},
   "outputs": [
    {
     "data": {
      "text/plain": [
       "((36716, 91), (9179, 10))"
      ]
     },
     "execution_count": 10,
     "metadata": {},
     "output_type": "execute_result"
    }
   ],
   "source": [
    "train.shape, test.shape"
   ]
  },
  {
   "cell_type": "markdown",
   "id": "aa9f5e70",
   "metadata": {},
   "source": [
    "Let's do the necessary splits"
   ]
  },
  {
   "cell_type": "code",
   "execution_count": 11,
   "id": "b51bf824",
   "metadata": {},
   "outputs": [],
   "source": [
    "X_train = train.drop([\"Price\"], axis=1)\n",
    "y_train = train[\"Price\"]"
   ]
  },
  {
   "cell_type": "markdown",
   "id": "7dbd4234",
   "metadata": {},
   "source": [
    "Here are the categorical and numerical features that need to be preprocessed"
   ]
  },
  {
   "cell_type": "markdown",
   "id": "8bfc604b",
   "metadata": {},
   "source": [
    "Importing tools needed for preprocessing"
   ]
  },
  {
   "cell_type": "code",
   "execution_count": 12,
   "id": "3908790f",
   "metadata": {},
   "outputs": [],
   "source": [
    "encoder = joblib.load(\"tools/encoder_joblib\")"
   ]
  },
  {
   "cell_type": "markdown",
   "id": "38aa5e22",
   "metadata": {},
   "source": [
    "Splitting test data"
   ]
  },
  {
   "cell_type": "code",
   "execution_count": 13,
   "id": "fea66ea4",
   "metadata": {},
   "outputs": [],
   "source": [
    "X_test = test.drop([\"Price\"], axis=1)\n",
    "y_test = test[\"Price\"]"
   ]
  },
  {
   "cell_type": "markdown",
   "id": "5096ed5f",
   "metadata": {},
   "source": [
    "Here we are preprocessing the test data so it can be used by the machine learning model"
   ]
  },
  {
   "cell_type": "code",
   "execution_count": 14,
   "id": "7bb35012",
   "metadata": {},
   "outputs": [],
   "source": [
    "X_test = encoder.transform(X_test) # enconding categorical values"
   ]
  },
  {
   "cell_type": "code",
   "execution_count": 15,
   "metadata": {},
   "outputs": [
    {
     "data": {
      "text/html": [
       "<div>\n",
       "<style scoped>\n",
       "    .dataframe tbody tr th:only-of-type {\n",
       "        vertical-align: middle;\n",
       "    }\n",
       "\n",
       "    .dataframe tbody tr th {\n",
       "        vertical-align: top;\n",
       "    }\n",
       "\n",
       "    .dataframe thead th {\n",
       "        text-align: right;\n",
       "    }\n",
       "</style>\n",
       "<table border=\"1\" class=\"dataframe\">\n",
       "  <thead>\n",
       "    <tr style=\"text-align: right;\">\n",
       "      <th></th>\n",
       "      <th>Serviced</th>\n",
       "      <th>Newly Built</th>\n",
       "      <th>Furnished</th>\n",
       "      <th>Bedrooms</th>\n",
       "      <th>Bathrooms</th>\n",
       "      <th>Toilets</th>\n",
       "      <th>City_Lekki</th>\n",
       "      <th>City_Ajah</th>\n",
       "      <th>City_Yaba</th>\n",
       "      <th>City_Ikoyi</th>\n",
       "      <th>...</th>\n",
       "      <th>Neighborhood_Ligali Ayorinde</th>\n",
       "      <th>Neighborhood_Oworonshoki</th>\n",
       "      <th>Neighborhood_Awolowo Road</th>\n",
       "      <th>Neighborhood_1004</th>\n",
       "      <th>Property Type_Self-contained</th>\n",
       "      <th>Property Type_Fully Detached Duplex</th>\n",
       "      <th>Property Type_Flat</th>\n",
       "      <th>Property Type_Apartment</th>\n",
       "      <th>Property Type_Terraced Duplex</th>\n",
       "      <th>Property Type_Semi Detached Duplex</th>\n",
       "    </tr>\n",
       "  </thead>\n",
       "  <tbody>\n",
       "    <tr>\n",
       "      <th>0</th>\n",
       "      <td>0</td>\n",
       "      <td>1</td>\n",
       "      <td>0</td>\n",
       "      <td>3</td>\n",
       "      <td>3</td>\n",
       "      <td>4</td>\n",
       "      <td>1</td>\n",
       "      <td>0</td>\n",
       "      <td>0</td>\n",
       "      <td>0</td>\n",
       "      <td>...</td>\n",
       "      <td>0</td>\n",
       "      <td>0</td>\n",
       "      <td>0</td>\n",
       "      <td>0</td>\n",
       "      <td>0</td>\n",
       "      <td>0</td>\n",
       "      <td>1</td>\n",
       "      <td>0</td>\n",
       "      <td>0</td>\n",
       "      <td>0</td>\n",
       "    </tr>\n",
       "    <tr>\n",
       "      <th>1</th>\n",
       "      <td>0</td>\n",
       "      <td>0</td>\n",
       "      <td>0</td>\n",
       "      <td>1</td>\n",
       "      <td>1</td>\n",
       "      <td>1</td>\n",
       "      <td>0</td>\n",
       "      <td>0</td>\n",
       "      <td>0</td>\n",
       "      <td>0</td>\n",
       "      <td>...</td>\n",
       "      <td>0</td>\n",
       "      <td>0</td>\n",
       "      <td>0</td>\n",
       "      <td>0</td>\n",
       "      <td>1</td>\n",
       "      <td>0</td>\n",
       "      <td>0</td>\n",
       "      <td>0</td>\n",
       "      <td>0</td>\n",
       "      <td>0</td>\n",
       "    </tr>\n",
       "    <tr>\n",
       "      <th>2</th>\n",
       "      <td>0</td>\n",
       "      <td>1</td>\n",
       "      <td>0</td>\n",
       "      <td>2</td>\n",
       "      <td>2</td>\n",
       "      <td>3</td>\n",
       "      <td>0</td>\n",
       "      <td>1</td>\n",
       "      <td>0</td>\n",
       "      <td>0</td>\n",
       "      <td>...</td>\n",
       "      <td>0</td>\n",
       "      <td>0</td>\n",
       "      <td>0</td>\n",
       "      <td>0</td>\n",
       "      <td>0</td>\n",
       "      <td>0</td>\n",
       "      <td>1</td>\n",
       "      <td>0</td>\n",
       "      <td>0</td>\n",
       "      <td>0</td>\n",
       "    </tr>\n",
       "    <tr>\n",
       "      <th>3</th>\n",
       "      <td>0</td>\n",
       "      <td>0</td>\n",
       "      <td>0</td>\n",
       "      <td>1</td>\n",
       "      <td>1</td>\n",
       "      <td>1</td>\n",
       "      <td>1</td>\n",
       "      <td>0</td>\n",
       "      <td>0</td>\n",
       "      <td>0</td>\n",
       "      <td>...</td>\n",
       "      <td>0</td>\n",
       "      <td>0</td>\n",
       "      <td>0</td>\n",
       "      <td>0</td>\n",
       "      <td>1</td>\n",
       "      <td>0</td>\n",
       "      <td>0</td>\n",
       "      <td>0</td>\n",
       "      <td>0</td>\n",
       "      <td>0</td>\n",
       "    </tr>\n",
       "    <tr>\n",
       "      <th>4</th>\n",
       "      <td>0</td>\n",
       "      <td>0</td>\n",
       "      <td>0</td>\n",
       "      <td>4</td>\n",
       "      <td>4</td>\n",
       "      <td>1</td>\n",
       "      <td>0</td>\n",
       "      <td>0</td>\n",
       "      <td>0</td>\n",
       "      <td>0</td>\n",
       "      <td>...</td>\n",
       "      <td>0</td>\n",
       "      <td>0</td>\n",
       "      <td>0</td>\n",
       "      <td>0</td>\n",
       "      <td>0</td>\n",
       "      <td>1</td>\n",
       "      <td>0</td>\n",
       "      <td>0</td>\n",
       "      <td>0</td>\n",
       "      <td>0</td>\n",
       "    </tr>\n",
       "  </tbody>\n",
       "</table>\n",
       "<p>5 rows × 90 columns</p>\n",
       "</div>"
      ],
      "text/plain": [
       "   Serviced  Newly Built  Furnished  Bedrooms  Bathrooms  Toilets  City_Lekki  \\\n",
       "0         0            1          0         3          3        4           1   \n",
       "1         0            0          0         1          1        1           0   \n",
       "2         0            1          0         2          2        3           0   \n",
       "3         0            0          0         1          1        1           1   \n",
       "4         0            0          0         4          4        1           0   \n",
       "\n",
       "   City_Ajah  City_Yaba  City_Ikoyi  ...  Neighborhood_Ligali Ayorinde  \\\n",
       "0          0          0           0  ...                             0   \n",
       "1          0          0           0  ...                             0   \n",
       "2          1          0           0  ...                             0   \n",
       "3          0          0           0  ...                             0   \n",
       "4          0          0           0  ...                             0   \n",
       "\n",
       "   Neighborhood_Oworonshoki  Neighborhood_Awolowo Road  Neighborhood_1004  \\\n",
       "0                         0                          0                  0   \n",
       "1                         0                          0                  0   \n",
       "2                         0                          0                  0   \n",
       "3                         0                          0                  0   \n",
       "4                         0                          0                  0   \n",
       "\n",
       "   Property Type_Self-contained  Property Type_Fully Detached Duplex  \\\n",
       "0                             0                                    0   \n",
       "1                             1                                    0   \n",
       "2                             0                                    0   \n",
       "3                             1                                    0   \n",
       "4                             0                                    1   \n",
       "\n",
       "   Property Type_Flat  Property Type_Apartment  Property Type_Terraced Duplex  \\\n",
       "0                   1                        0                              0   \n",
       "1                   0                        0                              0   \n",
       "2                   1                        0                              0   \n",
       "3                   0                        0                              0   \n",
       "4                   0                        0                              0   \n",
       "\n",
       "   Property Type_Semi Detached Duplex  \n",
       "0                                   0  \n",
       "1                                   0  \n",
       "2                                   0  \n",
       "3                                   0  \n",
       "4                                   0  \n",
       "\n",
       "[5 rows x 90 columns]"
      ]
     },
     "execution_count": 15,
     "metadata": {},
     "output_type": "execute_result"
    }
   ],
   "source": [
    "X_test.head()"
   ]
  },
  {
   "cell_type": "markdown",
   "id": "b3a1c6f6",
   "metadata": {},
   "source": [
    "## Model Building and Validation"
   ]
  },
  {
   "cell_type": "markdown",
   "id": "ae28f59b",
   "metadata": {},
   "source": [
    "Lets import the necessary machinne learning models that would be used for fitting the data"
   ]
  },
  {
   "cell_type": "code",
   "execution_count": 16,
   "id": "8e02ac2d",
   "metadata": {},
   "outputs": [],
   "source": [
    "from sklearn.ensemble import RandomForestRegressor # Random Forest\n",
    "from xgboost import XGBRegressor # XGBoost\n",
    "from sklearn.svm import SVR # SVM\n",
    "from sklearn.neighbors import KNeighborsRegressor # KNN\n",
    "from lightgbm import LGBMRegressor # LightGBM"
   ]
  },
  {
   "cell_type": "markdown",
   "id": "fd9791fa",
   "metadata": {},
   "source": [
    "### Random Forest"
   ]
  },
  {
   "cell_type": "markdown",
   "id": "2552f3d4",
   "metadata": {},
   "source": [
    "Here we are initializing the model, then fitting the data and making prediction on the validation data"
   ]
  },
  {
   "cell_type": "code",
   "execution_count": 17,
   "id": "1782488f",
   "metadata": {},
   "outputs": [],
   "source": [
    "rf = RandomForestRegressor(max_depth=11, n_estimators=20, random_state=51)\n",
    "rf.fit(X_train, y_train)\n",
    "rf_predictions = rf.predict(X_test)"
   ]
  },
  {
   "cell_type": "markdown",
   "id": "6b866e4f",
   "metadata": {},
   "source": [
    "### XGBoost"
   ]
  },
  {
   "cell_type": "code",
   "execution_count": 18,
   "id": "ae751344",
   "metadata": {},
   "outputs": [],
   "source": [
    "xgb = XGBRegressor(random_state=51, n_estimators=60, learning_rate=0.202)\n",
    "xgb.fit(X_train, y_train)\n",
    "xgb_predictions = xgb.predict(X_test)"
   ]
  },
  {
   "cell_type": "markdown",
   "id": "6b866e4f",
   "metadata": {},
   "source": [
    "### LightGBM"
   ]
  },
  {
   "cell_type": "code",
   "execution_count": 19,
   "id": "ae751344",
   "metadata": {},
   "outputs": [],
   "source": [
    "# lgb = LGBMRegressor(random_state=51)\n",
    "lgb = LGBMRegressor(random_state=51, n_estimators=117)\n",
    "lgb.fit(X_train, y_train)\n",
    "lgb_predictions = lgb.predict(X_test)"
   ]
  },
  {
   "cell_type": "markdown",
   "id": "1b5ca86d",
   "metadata": {},
   "source": [
    "### Model Performance on Test data"
   ]
  },
  {
   "cell_type": "markdown",
   "id": "fd011792",
   "metadata": {},
   "source": [
    "Here we are checking the performance of the machine learning models on the test data"
   ]
  },
  {
   "cell_type": "code",
   "execution_count": 20,
   "id": "a90a05f4",
   "metadata": {},
   "outputs": [],
   "source": [
    "# import MAE metric\n",
    "from sklearn.metrics import mean_absolute_error"
   ]
  },
  {
   "cell_type": "code",
   "execution_count": 21,
   "id": "9e101454",
   "metadata": {},
   "outputs": [
    {
     "name": "stdout",
     "output_type": "stream",
     "text": [
      "Random Forest: 1.2264270764515677\n",
      "XGBoost: 1.1817461188480498\n",
      "LightGBM: 1.1724231384132595\n"
     ]
    }
   ],
   "source": [
    "print(f\"Random Forest: {mean_absolute_error(y_test, rf_predictions) / 1e6}\")\n",
    "print(f\"XGBoost: {mean_absolute_error(y_test, xgb_predictions) / 1e6}\")\n",
    "print(f\"LightGBM: {mean_absolute_error(y_test, lgb_predictions) / 1e6}\")"
   ]
  },
  {
   "cell_type": "markdown",
   "metadata": {},
   "source": [
    "### Model Save for Deployment"
   ]
  },
  {
   "cell_type": "code",
   "execution_count": 22,
   "metadata": {},
   "outputs": [
    {
     "data": {
      "text/plain": [
       "['tools/model_joblib']"
      ]
     },
     "execution_count": 22,
     "metadata": {},
     "output_type": "execute_result"
    }
   ],
   "source": [
    "joblib.dump(lgb, \"tools/model_joblib\")"
   ]
  }
 ],
 "metadata": {
  "kernelspec": {
   "display_name": "Python 3.9.12 ('base')",
   "language": "python",
   "name": "python3"
  },
  "language_info": {
   "codemirror_mode": {
    "name": "ipython",
    "version": 3
   },
   "file_extension": ".py",
   "mimetype": "text/x-python",
   "name": "python",
   "nbconvert_exporter": "python",
   "pygments_lexer": "ipython3",
   "version": "3.9.12"
  },
  "orig_nbformat": 4,
  "vscode": {
   "interpreter": {
    "hash": "397fa5c989aefacd265b089cd9fa90a007575229207dba4eead3a1aa550249df"
   }
  }
 },
 "nbformat": 4,
 "nbformat_minor": 2
}
