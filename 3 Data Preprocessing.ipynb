{
 "cells": [
  {
   "cell_type": "code",
   "execution_count": 1,
   "metadata": {},
   "outputs": [],
   "source": [
    "import pandas as pd\n",
    "import joblib"
   ]
  },
  {
   "cell_type": "code",
   "execution_count": 2,
   "metadata": {},
   "outputs": [],
   "source": [
    "lagos = pd.read_csv(\"data/lagos-rent.csv\")"
   ]
  },
  {
   "cell_type": "code",
   "execution_count": 3,
   "metadata": {},
   "outputs": [
    {
     "data": {
      "text/html": [
       "<div>\n",
       "<style scoped>\n",
       "    .dataframe tbody tr th:only-of-type {\n",
       "        vertical-align: middle;\n",
       "    }\n",
       "\n",
       "    .dataframe tbody tr th {\n",
       "        vertical-align: top;\n",
       "    }\n",
       "\n",
       "    .dataframe thead th {\n",
       "        text-align: right;\n",
       "    }\n",
       "</style>\n",
       "<table border=\"1\" class=\"dataframe\">\n",
       "  <thead>\n",
       "    <tr style=\"text-align: right;\">\n",
       "      <th></th>\n",
       "      <th>Title</th>\n",
       "      <th>More Info</th>\n",
       "      <th>Price</th>\n",
       "      <th>Serviced</th>\n",
       "      <th>Newly Built</th>\n",
       "      <th>Furnished</th>\n",
       "      <th>Bedrooms</th>\n",
       "      <th>Bathrooms</th>\n",
       "      <th>Toilets</th>\n",
       "      <th>City</th>\n",
       "      <th>Neighborhood</th>\n",
       "    </tr>\n",
       "  </thead>\n",
       "  <tbody>\n",
       "    <tr>\n",
       "      <th>0</th>\n",
       "      <td>Newly Built 4 Bedroom Semi Detached House With Bq</td>\n",
       "      <td>4 BEDROOM HOUSE FOR RENT</td>\n",
       "      <td>5,000,000/year</td>\n",
       "      <td>0</td>\n",
       "      <td>1</td>\n",
       "      <td>0</td>\n",
       "      <td>4 beds</td>\n",
       "      <td>4 baths</td>\n",
       "      <td>5 Toilets</td>\n",
       "      <td>Lekki</td>\n",
       "      <td>Agungi</td>\n",
       "    </tr>\n",
       "    <tr>\n",
       "      <th>1</th>\n",
       "      <td>Superb 4 Bedroom Semi Detached Duplex With Bq</td>\n",
       "      <td>4 BEDROOM HOUSE FOR RENT</td>\n",
       "      <td>5,000,000/year</td>\n",
       "      <td>0</td>\n",
       "      <td>1</td>\n",
       "      <td>0</td>\n",
       "      <td>4 beds</td>\n",
       "      <td>4 baths</td>\n",
       "      <td>5 Toilets</td>\n",
       "      <td>Lekki</td>\n",
       "      <td>Other Lekki</td>\n",
       "    </tr>\n",
       "    <tr>\n",
       "      <th>2</th>\n",
       "      <td>Furnished 2 Bedroom Terrace Duplex For Rent !!!</td>\n",
       "      <td>2 BEDROOM HOUSE FOR RENT</td>\n",
       "      <td>3,500,000</td>\n",
       "      <td>1</td>\n",
       "      <td>0</td>\n",
       "      <td>0</td>\n",
       "      <td>2 beds</td>\n",
       "      <td>3 baths</td>\n",
       "      <td>3 Toilets</td>\n",
       "      <td>Lekki</td>\n",
       "      <td>Osapa London</td>\n",
       "    </tr>\n",
       "    <tr>\n",
       "      <th>3</th>\n",
       "      <td>2 Bedroom Apartment For Rent</td>\n",
       "      <td>2 BEDROOM HOUSE FOR RENT</td>\n",
       "      <td>2,700,000</td>\n",
       "      <td>1</td>\n",
       "      <td>1</td>\n",
       "      <td>0</td>\n",
       "      <td>2 beds</td>\n",
       "      <td>3 baths</td>\n",
       "      <td>3 Toilets</td>\n",
       "      <td>Lekki</td>\n",
       "      <td>Ologolo</td>\n",
       "    </tr>\n",
       "    <tr>\n",
       "      <th>4</th>\n",
       "      <td>4 Bedroom Terrace Duplex For Rent</td>\n",
       "      <td>4 BEDROOM HOUSE FOR RENT</td>\n",
       "      <td>4,000,000</td>\n",
       "      <td>1</td>\n",
       "      <td>0</td>\n",
       "      <td>0</td>\n",
       "      <td>4 beds</td>\n",
       "      <td>5 baths</td>\n",
       "      <td>5 Toilets</td>\n",
       "      <td>Lekki</td>\n",
       "      <td>Chevron</td>\n",
       "    </tr>\n",
       "  </tbody>\n",
       "</table>\n",
       "</div>"
      ],
      "text/plain": [
       "                                               Title  \\\n",
       "0  Newly Built 4 Bedroom Semi Detached House With Bq   \n",
       "1      Superb 4 Bedroom Semi Detached Duplex With Bq   \n",
       "2    Furnished 2 Bedroom Terrace Duplex For Rent !!!   \n",
       "3                       2 Bedroom Apartment For Rent   \n",
       "4                  4 Bedroom Terrace Duplex For Rent   \n",
       "\n",
       "                  More Info           Price  Serviced  Newly Built  Furnished  \\\n",
       "0  4 BEDROOM HOUSE FOR RENT  5,000,000/year         0            1          0   \n",
       "1  4 BEDROOM HOUSE FOR RENT  5,000,000/year         0            1          0   \n",
       "2  2 BEDROOM HOUSE FOR RENT       3,500,000         1            0          0   \n",
       "3  2 BEDROOM HOUSE FOR RENT       2,700,000         1            1          0   \n",
       "4  4 BEDROOM HOUSE FOR RENT       4,000,000         1            0          0   \n",
       "\n",
       "  Bedrooms Bathrooms    Toilets   City  Neighborhood  \n",
       "0   4 beds   4 baths  5 Toilets  Lekki        Agungi  \n",
       "1   4 beds   4 baths  5 Toilets  Lekki   Other Lekki  \n",
       "2   2 beds   3 baths  3 Toilets  Lekki  Osapa London  \n",
       "3   2 beds   3 baths  3 Toilets  Lekki       Ologolo  \n",
       "4   4 beds   5 baths  5 Toilets  Lekki       Chevron  "
      ]
     },
     "execution_count": 3,
     "metadata": {},
     "output_type": "execute_result"
    }
   ],
   "source": [
    "lagos.head()"
   ]
  },
  {
   "cell_type": "code",
   "execution_count": 4,
   "metadata": {},
   "outputs": [
    {
     "name": "stdout",
     "output_type": "stream",
     "text": [
      "<class 'pandas.core.frame.DataFrame'>\n",
      "RangeIndex: 53070 entries, 0 to 53069\n",
      "Data columns (total 11 columns):\n",
      " #   Column        Non-Null Count  Dtype \n",
      "---  ------        --------------  ----- \n",
      " 0   Title         53070 non-null  object\n",
      " 1   More Info     53070 non-null  object\n",
      " 2   Price         53070 non-null  object\n",
      " 3   Serviced      53070 non-null  int64 \n",
      " 4   Newly Built   53070 non-null  int64 \n",
      " 5   Furnished     53070 non-null  int64 \n",
      " 6   Bedrooms      53070 non-null  object\n",
      " 7   Bathrooms     53070 non-null  object\n",
      " 8   Toilets       53070 non-null  object\n",
      " 9   City          53070 non-null  object\n",
      " 10  Neighborhood  53070 non-null  object\n",
      "dtypes: int64(3), object(8)\n",
      "memory usage: 4.5+ MB\n"
     ]
    }
   ],
   "source": [
    "lagos.info()"
   ]
  },
  {
   "cell_type": "code",
   "execution_count": 5,
   "metadata": {},
   "outputs": [],
   "source": [
    "def house_type(serie):\n",
    "    final = []\n",
    "    \n",
    "    # Extract property name from title\n",
    "    for title in list(serie):\n",
    "        # convert all titles to lowercase trings\n",
    "        title = str(title).lower()\n",
    "        if (\"land\" in title) and (not \"island\" in title):\n",
    "            final.append(\"land\")\n",
    "        elif (\"flat\" in title) and (not \"mini\" in title):\n",
    "            final.append(\"Flat\")\n",
    "        elif (\"self\" in title) or (\"mini\" in title):\n",
    "            final.append(\"Self-contained\")\n",
    "        elif (\"apartment\" in title) or (\"tment\" in title):\n",
    "            final.append(\"Apartment\")\n",
    "        elif \"semi\" in title:\n",
    "            final.append(\"Semi Detached Duplex\")\n",
    "        elif \"terra\" in title:\n",
    "            final.append(\"Terraced Duplex\")\n",
    "        elif ('fully detached' in title) or ('bedroom detached duplex' in title) and (not \"semi\" in title):\n",
    "            final.append(\"Fully Detached Duplex\")\n",
    "        elif ('bedroom' in title) or ('bed room' in title) and (not \"semi\" in title) and (not \"terra\" in title) and (not \"apartment\" in title) and (not \"flat\" in title):\n",
    "            final.append(\"Fully Detached Duplex\")\n",
    "        elif ('detached' in title)  and (not \"semi\" in title)  and (not \"terra\" in title):\n",
    "            final.append(\"Fully Detached Duplex\")\n",
    "        elif ('duplex' in title)  and (not \"semi\" in title)  and (not \"terra\" in title):\n",
    "            final.append(\"Fully Detached Duplex\")\n",
    "        else:\n",
    "            final.append(\"others\")\n",
    "    return final"
   ]
  },
  {
   "cell_type": "code",
   "execution_count": 6,
   "metadata": {},
   "outputs": [],
   "source": [
    "lagos[\"Property Type\"] = house_type(lagos[\"Title\"])"
   ]
  },
  {
   "cell_type": "code",
   "execution_count": 7,
   "metadata": {},
   "outputs": [
    {
     "data": {
      "text/plain": [
       "Flat                     17204\n",
       "Self-contained           11201\n",
       "Fully Detached Duplex     8071\n",
       "Apartment                 7171\n",
       "Terraced Duplex           4514\n",
       "Semi Detached Duplex      3465\n",
       "others                    1305\n",
       "land                       139\n",
       "Name: Property Type, dtype: int64"
      ]
     },
     "execution_count": 7,
     "metadata": {},
     "output_type": "execute_result"
    }
   ],
   "source": [
    "lagos[\"Property Type\"].value_counts()"
   ]
  },
  {
   "cell_type": "code",
   "execution_count": 8,
   "metadata": {},
   "outputs": [],
   "source": [
    "mask = lagos.loc[(lagos[\"Property Type\"]==\"others\") | (lagos[\"Property Type\"]==\"land\")].index\n",
    "lagos.drop(mask, inplace=True)\n",
    "lagos.drop([\"Title\", \"More Info\"], axis=1, inplace=True)"
   ]
  },
  {
   "cell_type": "code",
   "execution_count": 9,
   "metadata": {},
   "outputs": [
    {
     "data": {
      "text/plain": [
       "Flat                     17204\n",
       "Self-contained           11201\n",
       "Fully Detached Duplex     8071\n",
       "Apartment                 7171\n",
       "Terraced Duplex           4514\n",
       "Semi Detached Duplex      3465\n",
       "Name: Property Type, dtype: int64"
      ]
     },
     "execution_count": 9,
     "metadata": {},
     "output_type": "execute_result"
    }
   ],
   "source": [
    "lagos[\"Property Type\"].value_counts()"
   ]
  },
  {
   "cell_type": "code",
   "execution_count": 10,
   "id": "bac119ed",
   "metadata": {},
   "outputs": [],
   "source": [
    "# Remove the last item from the price\n",
    "def price_split(feature):\n",
    "    final = []\n",
    "    for value in feature:\n",
    "        # if value has a price period, extract it else let it's price period be fixed\n",
    "        try:\n",
    "            final.append(value.split(\"/\")[1])\n",
    "        except:\n",
    "            final.append(\"year\")\n",
    "    return final"
   ]
  },
  {
   "cell_type": "code",
   "execution_count": 11,
   "id": "1678d185",
   "metadata": {},
   "outputs": [],
   "source": [
    "# applying function\n",
    "lagos[\"Price Period\"] = price_split(lagos[\"Price\"])"
   ]
  },
  {
   "cell_type": "code",
   "execution_count": 12,
   "id": "6a5cca92",
   "metadata": {},
   "outputs": [],
   "source": [
    "def comma_remove(feature):\n",
    "    final = []\n",
    "    for sample in feature:\n",
    "        # Get the prices\n",
    "        sample = sample.split(\"/\")[0]\n",
    "        \n",
    "        # Remove the commas\n",
    "        if \",\" in sample:\n",
    "            final.append(sample.replace(\",\",\"\"))\n",
    "        else:\n",
    "            final.append(sample)\n",
    "    \n",
    "    # Convert them to numbers\n",
    "    int_final = [float(item) for item in final]\n",
    "    return int_final\n"
   ]
  },
  {
   "cell_type": "code",
   "execution_count": 13,
   "id": "4e4816c2",
   "metadata": {},
   "outputs": [],
   "source": [
    "# applying functions\n",
    "lagos[\"Price\"] = comma_remove(lagos[\"Price\"])"
   ]
  },
  {
   "cell_type": "code",
   "execution_count": 14,
   "id": "2d75492e",
   "metadata": {},
   "outputs": [],
   "source": [
    "lagos = lagos[lagos[\"Price Period\"] == \"year\"].copy()\n",
    "lagos.drop(\"Price Period\", axis=1, inplace=True)"
   ]
  },
  {
   "cell_type": "code",
   "execution_count": 15,
   "id": "e956d01f",
   "metadata": {},
   "outputs": [],
   "source": [
    "def remove_bed_strip(serie):\n",
    "    final = []\n",
    "    # If value doesn't have a number, replace it with a zero,\n",
    "    # else replace it with the number it contains\n",
    "    for value in serie:\n",
    "        if value.split(\"beds\")[0].strip() == \"\":\n",
    "            final.append(int(\"0\"))\n",
    "        else:\n",
    "            final.append(int(value.split(\"beds\")[0].strip()))\n",
    "    return final\n",
    "\n",
    "def remove_toilet_strip(serie):\n",
    "    final = []\n",
    "    for value in serie:\n",
    "        if value.split(\"Toilets\")[0].strip() == \"\":\n",
    "            final.append(int(\"0\"))\n",
    "        else:\n",
    "            final.append(int(value.split(\"Toilets\")[0].strip()))\n",
    "    return final \n",
    "\n",
    "def remove_bath_strip(serie):\n",
    "    final = []\n",
    "    for value in serie:\n",
    "        if value.split(\"baths\")[0].strip() == \"\":\n",
    "            final.append(int(\"0\"))\n",
    "        else:\n",
    "            final.append(int(value.split(\"baths\")[0].strip()))\n",
    "    return final "
   ]
  },
  {
   "cell_type": "markdown",
   "metadata": {},
   "source": [
    "Applying functions to three features"
   ]
  },
  {
   "cell_type": "code",
   "execution_count": 16,
   "id": "9e009a14",
   "metadata": {},
   "outputs": [],
   "source": [
    "lagos[\"Bedrooms\"] = remove_bed_strip(lagos[\"Bedrooms\"])"
   ]
  },
  {
   "cell_type": "code",
   "execution_count": 17,
   "id": "1b8a8a40",
   "metadata": {},
   "outputs": [],
   "source": [
    "lagos[\"Bathrooms\"] = remove_bath_strip(lagos[\"Bathrooms\"])"
   ]
  },
  {
   "cell_type": "code",
   "execution_count": 18,
   "id": "4f1737a8",
   "metadata": {},
   "outputs": [],
   "source": [
    "lagos[\"Toilets\"] = remove_toilet_strip(lagos[\"Toilets\"])"
   ]
  },
  {
   "cell_type": "code",
   "execution_count": 19,
   "metadata": {},
   "outputs": [
    {
     "data": {
      "text/html": [
       "<div>\n",
       "<style scoped>\n",
       "    .dataframe tbody tr th:only-of-type {\n",
       "        vertical-align: middle;\n",
       "    }\n",
       "\n",
       "    .dataframe tbody tr th {\n",
       "        vertical-align: top;\n",
       "    }\n",
       "\n",
       "    .dataframe thead th {\n",
       "        text-align: right;\n",
       "    }\n",
       "</style>\n",
       "<table border=\"1\" class=\"dataframe\">\n",
       "  <thead>\n",
       "    <tr style=\"text-align: right;\">\n",
       "      <th></th>\n",
       "      <th>Bedrooms</th>\n",
       "      <th>Bathrooms</th>\n",
       "      <th>Toilets</th>\n",
       "    </tr>\n",
       "  </thead>\n",
       "  <tbody>\n",
       "    <tr>\n",
       "      <th>44651</th>\n",
       "      <td>3</td>\n",
       "      <td>3</td>\n",
       "      <td>4</td>\n",
       "    </tr>\n",
       "    <tr>\n",
       "      <th>16657</th>\n",
       "      <td>2</td>\n",
       "      <td>0</td>\n",
       "      <td>0</td>\n",
       "    </tr>\n",
       "    <tr>\n",
       "      <th>48713</th>\n",
       "      <td>1</td>\n",
       "      <td>2</td>\n",
       "      <td>2</td>\n",
       "    </tr>\n",
       "    <tr>\n",
       "      <th>11349</th>\n",
       "      <td>1</td>\n",
       "      <td>0</td>\n",
       "      <td>0</td>\n",
       "    </tr>\n",
       "    <tr>\n",
       "      <th>17923</th>\n",
       "      <td>4</td>\n",
       "      <td>4</td>\n",
       "      <td>5</td>\n",
       "    </tr>\n",
       "  </tbody>\n",
       "</table>\n",
       "</div>"
      ],
      "text/plain": [
       "       Bedrooms  Bathrooms  Toilets\n",
       "44651         3          3        4\n",
       "16657         2          0        0\n",
       "48713         1          2        2\n",
       "11349         1          0        0\n",
       "17923         4          4        5"
      ]
     },
     "execution_count": 19,
     "metadata": {},
     "output_type": "execute_result"
    }
   ],
   "source": [
    "lagos[[\"Bedrooms\",\"Bathrooms\",\"Toilets\"]].sample(5)"
   ]
  },
  {
   "cell_type": "code",
   "execution_count": 20,
   "metadata": {},
   "outputs": [],
   "source": [
    "def first_impute(f1, f2):\n",
    "    final = []\n",
    "    for value in zip(f1, f2):\n",
    "        if (value[0] == 0):\n",
    "            final.append(value[1])\n",
    "        else:\n",
    "            final.append(value[0])\n",
    "    return final"
   ]
  },
  {
   "cell_type": "code",
   "execution_count": 21,
   "metadata": {},
   "outputs": [],
   "source": [
    "def second_impute(f1, f2):\n",
    "    final = []\n",
    "    for value in zip(f1, f2):\n",
    "        if value[0] > 1 :\n",
    "            if (value[0] == 0):\n",
    "                final.append(value[1])\n",
    "            else:\n",
    "                final.append(value[0])\n",
    "        else:\n",
    "            if (value[0] == 0):\n",
    "                final.append(1)\n",
    "            else:\n",
    "                final.append(value[0])\n",
    "    return final"
   ]
  },
  {
   "cell_type": "code",
   "execution_count": 22,
   "metadata": {},
   "outputs": [
    {
     "data": {
      "text/plain": [
       "(51435, 10)"
      ]
     },
     "execution_count": 22,
     "metadata": {},
     "output_type": "execute_result"
    }
   ],
   "source": [
    "lagos.shape"
   ]
  },
  {
   "cell_type": "code",
   "execution_count": 23,
   "metadata": {},
   "outputs": [],
   "source": [
    "lagos[\"Bedrooms\"] = first_impute(lagos[\"Bedrooms\"], lagos[\"Bathrooms\"])\n",
    "lagos[\"Bathrooms\"] = first_impute(lagos[\"Bathrooms\"], lagos[\"Bedrooms\"])\n",
    "lagos[\"Toilets\"] = second_impute(lagos[\"Toilets\"], lagos[\"Bathrooms\"])"
   ]
  },
  {
   "cell_type": "code",
   "execution_count": 24,
   "metadata": {},
   "outputs": [],
   "source": [
    "# try missing room imputation again here\n",
    "mask = lagos.loc[(lagos['Bedrooms'] == 0) | (lagos['Bedrooms'] == 0) | (lagos['Toilets'] == 0)].index\n",
    "lagos.drop(mask, inplace=True)\n"
   ]
  },
  {
   "cell_type": "code",
   "execution_count": 25,
   "metadata": {},
   "outputs": [],
   "source": [
    "from feature_engine.outliers import Winsorizer"
   ]
  },
  {
   "cell_type": "code",
   "execution_count": 26,
   "metadata": {},
   "outputs": [
    {
     "data": {
      "text/plain": [
       "(2.0, 47.357957401211024)"
      ]
     },
     "execution_count": 26,
     "metadata": {},
     "output_type": "execute_result"
    }
   ],
   "source": [
    "lagos[\"Price\"].median() /1e6, lagos[\"Price\"].mean()/1e6"
   ]
  },
  {
   "cell_type": "code",
   "execution_count": 27,
   "metadata": {},
   "outputs": [],
   "source": [
    "# # try price outlier handling and missing room imputation again here\n",
    "mask = lagos.loc[(lagos[\"Price\"] < 1e5) | (lagos[\"Price\"] > 5e7)].index\n",
    "lagos.drop(mask, inplace=True)"
   ]
  },
  {
   "cell_type": "code",
   "execution_count": 28,
   "metadata": {},
   "outputs": [
    {
     "data": {
      "text/plain": [
       "(2.0, 3.67481677367905)"
      ]
     },
     "execution_count": 28,
     "metadata": {},
     "output_type": "execute_result"
    }
   ],
   "source": [
    "lagos[\"Price\"].median() /1e6, lagos[\"Price\"].mean()/1e6"
   ]
  },
  {
   "cell_type": "markdown",
   "metadata": {},
   "source": [
    "## Data Preprocessing"
   ]
  },
  {
   "cell_type": "markdown",
   "metadata": {},
   "source": [
    "#### Data Split"
   ]
  },
  {
   "cell_type": "markdown",
   "metadata": {},
   "source": [
    "Splitting our data before data preprocessing to avoid data leakage"
   ]
  },
  {
   "cell_type": "code",
   "execution_count": 29,
   "metadata": {},
   "outputs": [],
   "source": [
    "# Spliting to extract 20% test data\n",
    "from sklearn.model_selection import StratifiedShuffleSplit\n",
    "split = StratifiedShuffleSplit(n_splits=1, test_size=0.2, random_state=42)\n",
    "for train_index, test_index in split.split(lagos, lagos[\"Neighborhood\"]):\n",
    "    train_set = lagos.iloc[train_index]\n",
    "    test_set = lagos.iloc[test_index]"
   ]
  },
  {
   "cell_type": "code",
   "execution_count": 30,
   "metadata": {},
   "outputs": [],
   "source": [
    "lagos = train_set.drop(\"Price\", axis=1)\n",
    "price = train_set[\"Price\"]"
   ]
  },
  {
   "cell_type": "markdown",
   "id": "1711dc64",
   "metadata": {},
   "source": [
    "Let's seperate our numerical columns and our categorical ones"
   ]
  },
  {
   "cell_type": "code",
   "execution_count": 31,
   "id": "3a80d7e8",
   "metadata": {},
   "outputs": [],
   "source": [
    "categorical_col = [column for column in lagos.columns if lagos[column].dtype == \"O\"]"
   ]
  },
  {
   "cell_type": "code",
   "execution_count": 32,
   "id": "f8abd46b",
   "metadata": {},
   "outputs": [
    {
     "data": {
      "text/html": [
       "<div>\n",
       "<style scoped>\n",
       "    .dataframe tbody tr th:only-of-type {\n",
       "        vertical-align: middle;\n",
       "    }\n",
       "\n",
       "    .dataframe tbody tr th {\n",
       "        vertical-align: top;\n",
       "    }\n",
       "\n",
       "    .dataframe thead th {\n",
       "        text-align: right;\n",
       "    }\n",
       "</style>\n",
       "<table border=\"1\" class=\"dataframe\">\n",
       "  <thead>\n",
       "    <tr style=\"text-align: right;\">\n",
       "      <th></th>\n",
       "      <th>City</th>\n",
       "      <th>Neighborhood</th>\n",
       "      <th>Property Type</th>\n",
       "    </tr>\n",
       "  </thead>\n",
       "  <tbody>\n",
       "    <tr>\n",
       "      <th>52060</th>\n",
       "      <td>Yaba</td>\n",
       "      <td>Other Yaba</td>\n",
       "      <td>Flat</td>\n",
       "    </tr>\n",
       "    <tr>\n",
       "      <th>29507</th>\n",
       "      <td>Island</td>\n",
       "      <td>Oniru</td>\n",
       "      <td>Terraced Duplex</td>\n",
       "    </tr>\n",
       "    <tr>\n",
       "      <th>114</th>\n",
       "      <td>Lekki</td>\n",
       "      <td>Chevron</td>\n",
       "      <td>Semi Detached Duplex</td>\n",
       "    </tr>\n",
       "    <tr>\n",
       "      <th>17626</th>\n",
       "      <td>Lekki</td>\n",
       "      <td>Ikota</td>\n",
       "      <td>Self-contained</td>\n",
       "    </tr>\n",
       "  </tbody>\n",
       "</table>\n",
       "</div>"
      ],
      "text/plain": [
       "         City Neighborhood         Property Type\n",
       "52060    Yaba   Other Yaba                  Flat\n",
       "29507  Island        Oniru       Terraced Duplex\n",
       "114     Lekki      Chevron  Semi Detached Duplex\n",
       "17626   Lekki        Ikota        Self-contained"
      ]
     },
     "execution_count": 32,
     "metadata": {},
     "output_type": "execute_result"
    }
   ],
   "source": [
    "lagos[categorical_col].sample(4)"
   ]
  },
  {
   "cell_type": "code",
   "execution_count": 33,
   "metadata": {},
   "outputs": [],
   "source": [
    "lagos = lagos.sample(frac=1, random_state=51)"
   ]
  },
  {
   "cell_type": "markdown",
   "metadata": {},
   "source": [
    "#### Feature Encoding"
   ]
  },
  {
   "cell_type": "markdown",
   "id": "13e39754",
   "metadata": {},
   "source": [
    "We need to perform OneHotEncoding on some of the norminal categorical variables (variables with no order e.g. Nigeria, Congo, Ghana)"
   ]
  },
  {
   "cell_type": "code",
   "execution_count": 34,
   "id": "61510154",
   "metadata": {},
   "outputs": [],
   "source": [
    "# import library for encoding\n",
    "from feature_engine.encoding import OneHotEncoder"
   ]
  },
  {
   "cell_type": "code",
   "execution_count": 35,
   "metadata": {},
   "outputs": [],
   "source": [
    "encoder = OneHotEncoder()\n",
    "encoder.fit(lagos)\n",
    "lagos = encoder.transform(lagos)"
   ]
  },
  {
   "cell_type": "markdown",
   "metadata": {},
   "source": [
    "Saving Encoder for future use in model deployment"
   ]
  },
  {
   "cell_type": "code",
   "execution_count": 36,
   "metadata": {},
   "outputs": [
    {
     "data": {
      "text/plain": [
       "['tools/encoder_joblib']"
      ]
     },
     "execution_count": 36,
     "metadata": {},
     "output_type": "execute_result"
    }
   ],
   "source": [
    "joblib.dump(encoder, \"tools/encoder_joblib\")"
   ]
  },
  {
   "cell_type": "code",
   "execution_count": 37,
   "metadata": {},
   "outputs": [
    {
     "data": {
      "text/html": [
       "<div>\n",
       "<style scoped>\n",
       "    .dataframe tbody tr th:only-of-type {\n",
       "        vertical-align: middle;\n",
       "    }\n",
       "\n",
       "    .dataframe tbody tr th {\n",
       "        vertical-align: top;\n",
       "    }\n",
       "\n",
       "    .dataframe thead th {\n",
       "        text-align: right;\n",
       "    }\n",
       "</style>\n",
       "<table border=\"1\" class=\"dataframe\">\n",
       "  <thead>\n",
       "    <tr style=\"text-align: right;\">\n",
       "      <th></th>\n",
       "      <th>Serviced</th>\n",
       "      <th>Newly Built</th>\n",
       "      <th>Furnished</th>\n",
       "      <th>Bedrooms</th>\n",
       "      <th>Bathrooms</th>\n",
       "      <th>Toilets</th>\n",
       "      <th>City_Lekki</th>\n",
       "      <th>City_Ajah</th>\n",
       "      <th>City_Yaba</th>\n",
       "      <th>City_Ikoyi</th>\n",
       "      <th>...</th>\n",
       "      <th>Neighborhood_Ligali Ayorinde</th>\n",
       "      <th>Neighborhood_Oworonshoki</th>\n",
       "      <th>Neighborhood_Awolowo Road</th>\n",
       "      <th>Neighborhood_1004</th>\n",
       "      <th>Property Type_Self-contained</th>\n",
       "      <th>Property Type_Fully Detached Duplex</th>\n",
       "      <th>Property Type_Flat</th>\n",
       "      <th>Property Type_Apartment</th>\n",
       "      <th>Property Type_Terraced Duplex</th>\n",
       "      <th>Property Type_Semi Detached Duplex</th>\n",
       "    </tr>\n",
       "  </thead>\n",
       "  <tbody>\n",
       "    <tr>\n",
       "      <th>2161</th>\n",
       "      <td>0</td>\n",
       "      <td>0</td>\n",
       "      <td>0</td>\n",
       "      <td>1</td>\n",
       "      <td>1</td>\n",
       "      <td>1</td>\n",
       "      <td>1</td>\n",
       "      <td>0</td>\n",
       "      <td>0</td>\n",
       "      <td>0</td>\n",
       "      <td>...</td>\n",
       "      <td>0</td>\n",
       "      <td>0</td>\n",
       "      <td>0</td>\n",
       "      <td>0</td>\n",
       "      <td>1</td>\n",
       "      <td>0</td>\n",
       "      <td>0</td>\n",
       "      <td>0</td>\n",
       "      <td>0</td>\n",
       "      <td>0</td>\n",
       "    </tr>\n",
       "    <tr>\n",
       "      <th>46036</th>\n",
       "      <td>0</td>\n",
       "      <td>1</td>\n",
       "      <td>1</td>\n",
       "      <td>4</td>\n",
       "      <td>5</td>\n",
       "      <td>6</td>\n",
       "      <td>0</td>\n",
       "      <td>1</td>\n",
       "      <td>0</td>\n",
       "      <td>0</td>\n",
       "      <td>...</td>\n",
       "      <td>0</td>\n",
       "      <td>0</td>\n",
       "      <td>0</td>\n",
       "      <td>0</td>\n",
       "      <td>0</td>\n",
       "      <td>1</td>\n",
       "      <td>0</td>\n",
       "      <td>0</td>\n",
       "      <td>0</td>\n",
       "      <td>0</td>\n",
       "    </tr>\n",
       "    <tr>\n",
       "      <th>48890</th>\n",
       "      <td>0</td>\n",
       "      <td>0</td>\n",
       "      <td>0</td>\n",
       "      <td>3</td>\n",
       "      <td>2</td>\n",
       "      <td>3</td>\n",
       "      <td>0</td>\n",
       "      <td>0</td>\n",
       "      <td>1</td>\n",
       "      <td>0</td>\n",
       "      <td>...</td>\n",
       "      <td>0</td>\n",
       "      <td>0</td>\n",
       "      <td>0</td>\n",
       "      <td>0</td>\n",
       "      <td>0</td>\n",
       "      <td>0</td>\n",
       "      <td>1</td>\n",
       "      <td>0</td>\n",
       "      <td>0</td>\n",
       "      <td>0</td>\n",
       "    </tr>\n",
       "    <tr>\n",
       "      <th>22355</th>\n",
       "      <td>1</td>\n",
       "      <td>0</td>\n",
       "      <td>0</td>\n",
       "      <td>3</td>\n",
       "      <td>3</td>\n",
       "      <td>4</td>\n",
       "      <td>0</td>\n",
       "      <td>0</td>\n",
       "      <td>0</td>\n",
       "      <td>1</td>\n",
       "      <td>...</td>\n",
       "      <td>0</td>\n",
       "      <td>0</td>\n",
       "      <td>0</td>\n",
       "      <td>0</td>\n",
       "      <td>0</td>\n",
       "      <td>0</td>\n",
       "      <td>1</td>\n",
       "      <td>0</td>\n",
       "      <td>0</td>\n",
       "      <td>0</td>\n",
       "    </tr>\n",
       "    <tr>\n",
       "      <th>14189</th>\n",
       "      <td>0</td>\n",
       "      <td>0</td>\n",
       "      <td>0</td>\n",
       "      <td>2</td>\n",
       "      <td>2</td>\n",
       "      <td>3</td>\n",
       "      <td>1</td>\n",
       "      <td>0</td>\n",
       "      <td>0</td>\n",
       "      <td>0</td>\n",
       "      <td>...</td>\n",
       "      <td>0</td>\n",
       "      <td>0</td>\n",
       "      <td>0</td>\n",
       "      <td>0</td>\n",
       "      <td>0</td>\n",
       "      <td>0</td>\n",
       "      <td>1</td>\n",
       "      <td>0</td>\n",
       "      <td>0</td>\n",
       "      <td>0</td>\n",
       "    </tr>\n",
       "    <tr>\n",
       "      <th>...</th>\n",
       "      <td>...</td>\n",
       "      <td>...</td>\n",
       "      <td>...</td>\n",
       "      <td>...</td>\n",
       "      <td>...</td>\n",
       "      <td>...</td>\n",
       "      <td>...</td>\n",
       "      <td>...</td>\n",
       "      <td>...</td>\n",
       "      <td>...</td>\n",
       "      <td>...</td>\n",
       "      <td>...</td>\n",
       "      <td>...</td>\n",
       "      <td>...</td>\n",
       "      <td>...</td>\n",
       "      <td>...</td>\n",
       "      <td>...</td>\n",
       "      <td>...</td>\n",
       "      <td>...</td>\n",
       "      <td>...</td>\n",
       "      <td>...</td>\n",
       "    </tr>\n",
       "    <tr>\n",
       "      <th>3776</th>\n",
       "      <td>0</td>\n",
       "      <td>0</td>\n",
       "      <td>0</td>\n",
       "      <td>4</td>\n",
       "      <td>4</td>\n",
       "      <td>5</td>\n",
       "      <td>1</td>\n",
       "      <td>0</td>\n",
       "      <td>0</td>\n",
       "      <td>0</td>\n",
       "      <td>...</td>\n",
       "      <td>0</td>\n",
       "      <td>0</td>\n",
       "      <td>0</td>\n",
       "      <td>0</td>\n",
       "      <td>0</td>\n",
       "      <td>0</td>\n",
       "      <td>0</td>\n",
       "      <td>0</td>\n",
       "      <td>0</td>\n",
       "      <td>1</td>\n",
       "    </tr>\n",
       "    <tr>\n",
       "      <th>5493</th>\n",
       "      <td>1</td>\n",
       "      <td>0</td>\n",
       "      <td>0</td>\n",
       "      <td>3</td>\n",
       "      <td>4</td>\n",
       "      <td>4</td>\n",
       "      <td>1</td>\n",
       "      <td>0</td>\n",
       "      <td>0</td>\n",
       "      <td>0</td>\n",
       "      <td>...</td>\n",
       "      <td>0</td>\n",
       "      <td>0</td>\n",
       "      <td>0</td>\n",
       "      <td>0</td>\n",
       "      <td>0</td>\n",
       "      <td>0</td>\n",
       "      <td>1</td>\n",
       "      <td>0</td>\n",
       "      <td>0</td>\n",
       "      <td>0</td>\n",
       "    </tr>\n",
       "    <tr>\n",
       "      <th>15087</th>\n",
       "      <td>1</td>\n",
       "      <td>0</td>\n",
       "      <td>1</td>\n",
       "      <td>3</td>\n",
       "      <td>3</td>\n",
       "      <td>4</td>\n",
       "      <td>1</td>\n",
       "      <td>0</td>\n",
       "      <td>0</td>\n",
       "      <td>0</td>\n",
       "      <td>...</td>\n",
       "      <td>0</td>\n",
       "      <td>0</td>\n",
       "      <td>0</td>\n",
       "      <td>0</td>\n",
       "      <td>0</td>\n",
       "      <td>0</td>\n",
       "      <td>1</td>\n",
       "      <td>0</td>\n",
       "      <td>0</td>\n",
       "      <td>0</td>\n",
       "    </tr>\n",
       "    <tr>\n",
       "      <th>15630</th>\n",
       "      <td>0</td>\n",
       "      <td>0</td>\n",
       "      <td>0</td>\n",
       "      <td>4</td>\n",
       "      <td>4</td>\n",
       "      <td>1</td>\n",
       "      <td>1</td>\n",
       "      <td>0</td>\n",
       "      <td>0</td>\n",
       "      <td>0</td>\n",
       "      <td>...</td>\n",
       "      <td>0</td>\n",
       "      <td>0</td>\n",
       "      <td>0</td>\n",
       "      <td>0</td>\n",
       "      <td>0</td>\n",
       "      <td>0</td>\n",
       "      <td>0</td>\n",
       "      <td>0</td>\n",
       "      <td>1</td>\n",
       "      <td>0</td>\n",
       "    </tr>\n",
       "    <tr>\n",
       "      <th>45697</th>\n",
       "      <td>0</td>\n",
       "      <td>0</td>\n",
       "      <td>0</td>\n",
       "      <td>3</td>\n",
       "      <td>3</td>\n",
       "      <td>4</td>\n",
       "      <td>0</td>\n",
       "      <td>1</td>\n",
       "      <td>0</td>\n",
       "      <td>0</td>\n",
       "      <td>...</td>\n",
       "      <td>0</td>\n",
       "      <td>0</td>\n",
       "      <td>0</td>\n",
       "      <td>0</td>\n",
       "      <td>0</td>\n",
       "      <td>1</td>\n",
       "      <td>0</td>\n",
       "      <td>0</td>\n",
       "      <td>0</td>\n",
       "      <td>0</td>\n",
       "    </tr>\n",
       "  </tbody>\n",
       "</table>\n",
       "<p>36716 rows × 90 columns</p>\n",
       "</div>"
      ],
      "text/plain": [
       "       Serviced  Newly Built  Furnished  Bedrooms  Bathrooms  Toilets  \\\n",
       "2161          0            0          0         1          1        1   \n",
       "46036         0            1          1         4          5        6   \n",
       "48890         0            0          0         3          2        3   \n",
       "22355         1            0          0         3          3        4   \n",
       "14189         0            0          0         2          2        3   \n",
       "...         ...          ...        ...       ...        ...      ...   \n",
       "3776          0            0          0         4          4        5   \n",
       "5493          1            0          0         3          4        4   \n",
       "15087         1            0          1         3          3        4   \n",
       "15630         0            0          0         4          4        1   \n",
       "45697         0            0          0         3          3        4   \n",
       "\n",
       "       City_Lekki  City_Ajah  City_Yaba  City_Ikoyi  ...  \\\n",
       "2161            1          0          0           0  ...   \n",
       "46036           0          1          0           0  ...   \n",
       "48890           0          0          1           0  ...   \n",
       "22355           0          0          0           1  ...   \n",
       "14189           1          0          0           0  ...   \n",
       "...           ...        ...        ...         ...  ...   \n",
       "3776            1          0          0           0  ...   \n",
       "5493            1          0          0           0  ...   \n",
       "15087           1          0          0           0  ...   \n",
       "15630           1          0          0           0  ...   \n",
       "45697           0          1          0           0  ...   \n",
       "\n",
       "       Neighborhood_Ligali Ayorinde  Neighborhood_Oworonshoki  \\\n",
       "2161                              0                         0   \n",
       "46036                             0                         0   \n",
       "48890                             0                         0   \n",
       "22355                             0                         0   \n",
       "14189                             0                         0   \n",
       "...                             ...                       ...   \n",
       "3776                              0                         0   \n",
       "5493                              0                         0   \n",
       "15087                             0                         0   \n",
       "15630                             0                         0   \n",
       "45697                             0                         0   \n",
       "\n",
       "       Neighborhood_Awolowo Road  Neighborhood_1004  \\\n",
       "2161                           0                  0   \n",
       "46036                          0                  0   \n",
       "48890                          0                  0   \n",
       "22355                          0                  0   \n",
       "14189                          0                  0   \n",
       "...                          ...                ...   \n",
       "3776                           0                  0   \n",
       "5493                           0                  0   \n",
       "15087                          0                  0   \n",
       "15630                          0                  0   \n",
       "45697                          0                  0   \n",
       "\n",
       "       Property Type_Self-contained  Property Type_Fully Detached Duplex  \\\n",
       "2161                              1                                    0   \n",
       "46036                             0                                    1   \n",
       "48890                             0                                    0   \n",
       "22355                             0                                    0   \n",
       "14189                             0                                    0   \n",
       "...                             ...                                  ...   \n",
       "3776                              0                                    0   \n",
       "5493                              0                                    0   \n",
       "15087                             0                                    0   \n",
       "15630                             0                                    0   \n",
       "45697                             0                                    1   \n",
       "\n",
       "       Property Type_Flat  Property Type_Apartment  \\\n",
       "2161                    0                        0   \n",
       "46036                   0                        0   \n",
       "48890                   1                        0   \n",
       "22355                   1                        0   \n",
       "14189                   1                        0   \n",
       "...                   ...                      ...   \n",
       "3776                    0                        0   \n",
       "5493                    1                        0   \n",
       "15087                   1                        0   \n",
       "15630                   0                        0   \n",
       "45697                   0                        0   \n",
       "\n",
       "       Property Type_Terraced Duplex  Property Type_Semi Detached Duplex  \n",
       "2161                               0                                   0  \n",
       "46036                              0                                   0  \n",
       "48890                              0                                   0  \n",
       "22355                              0                                   0  \n",
       "14189                              0                                   0  \n",
       "...                              ...                                 ...  \n",
       "3776                               0                                   1  \n",
       "5493                               0                                   0  \n",
       "15087                              0                                   0  \n",
       "15630                              1                                   0  \n",
       "45697                              0                                   0  \n",
       "\n",
       "[36716 rows x 90 columns]"
      ]
     },
     "execution_count": 37,
     "metadata": {},
     "output_type": "execute_result"
    }
   ],
   "source": [
    "lagos"
   ]
  },
  {
   "cell_type": "markdown",
   "metadata": {},
   "source": [
    "Save preprocessed data for Model Building"
   ]
  },
  {
   "cell_type": "code",
   "execution_count": 38,
   "metadata": {},
   "outputs": [],
   "source": [
    "lagos = pd.concat([lagos, price], axis=1)"
   ]
  },
  {
   "cell_type": "code",
   "execution_count": 39,
   "metadata": {},
   "outputs": [],
   "source": [
    "lagos.to_csv('data/train.csv', index=False)\n",
    "test_set.to_csv('data/test.csv', index=False)"
   ]
  }
 ],
 "metadata": {
  "kernelspec": {
   "display_name": "Python 3.9.12 ('base')",
   "language": "python",
   "name": "python3"
  },
  "language_info": {
   "codemirror_mode": {
    "name": "ipython",
    "version": 3
   },
   "file_extension": ".py",
   "mimetype": "text/x-python",
   "name": "python",
   "nbconvert_exporter": "python",
   "pygments_lexer": "ipython3",
   "version": "3.9.12"
  },
  "orig_nbformat": 4,
  "vscode": {
   "interpreter": {
    "hash": "397fa5c989aefacd265b089cd9fa90a007575229207dba4eead3a1aa550249df"
   }
  }
 },
 "nbformat": 4,
 "nbformat_minor": 2
}
