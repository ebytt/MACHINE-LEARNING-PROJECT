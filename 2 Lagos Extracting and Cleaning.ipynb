{
 "cells": [
  {
   "cell_type": "code",
   "execution_count": 1,
   "metadata": {},
   "outputs": [],
   "source": [
    "import pandas as pd"
   ]
  },
  {
   "cell_type": "code",
   "execution_count": 2,
   "metadata": {},
   "outputs": [],
   "source": [
    "rent = pd.read_csv(\"data/nigeria-rent.csv\")"
   ]
  },
  {
   "cell_type": "code",
   "execution_count": 3,
   "metadata": {},
   "outputs": [
    {
     "data": {
      "text/html": [
       "<div>\n",
       "<style scoped>\n",
       "    .dataframe tbody tr th:only-of-type {\n",
       "        vertical-align: middle;\n",
       "    }\n",
       "\n",
       "    .dataframe tbody tr th {\n",
       "        vertical-align: top;\n",
       "    }\n",
       "\n",
       "    .dataframe thead th {\n",
       "        text-align: right;\n",
       "    }\n",
       "</style>\n",
       "<table border=\"1\" class=\"dataframe\">\n",
       "  <thead>\n",
       "    <tr style=\"text-align: right;\">\n",
       "      <th></th>\n",
       "      <th>Title</th>\n",
       "      <th>More Info</th>\n",
       "      <th>Location</th>\n",
       "      <th>Price</th>\n",
       "      <th>Serviced</th>\n",
       "      <th>Newly Built</th>\n",
       "      <th>Furnished</th>\n",
       "      <th>Bedrooms</th>\n",
       "      <th>Bathrooms</th>\n",
       "      <th>Toilets</th>\n",
       "    </tr>\n",
       "  </thead>\n",
       "  <tbody>\n",
       "    <tr>\n",
       "      <th>0</th>\n",
       "      <td>Newly Built 4 Bedroom Semi Detached House With Bq</td>\n",
       "      <td>4 BEDROOM HOUSE FOR RENT</td>\n",
       "      <td>White Oak Estate, Ologolo Opp. Agungi, Ologolo...</td>\n",
       "      <td>5,000,000/year</td>\n",
       "      <td>0</td>\n",
       "      <td>1</td>\n",
       "      <td>0</td>\n",
       "      <td>4 beds</td>\n",
       "      <td>4 baths</td>\n",
       "      <td>5 Toilets</td>\n",
       "    </tr>\n",
       "    <tr>\n",
       "      <th>1</th>\n",
       "      <td>Superb 4 Bedroom Semi Detached Duplex With Bq</td>\n",
       "      <td>4 BEDROOM HOUSE FOR RENT</td>\n",
       "      <td>Hrc Estate Beside Vgc Estate, Vgc Lekki Lagos</td>\n",
       "      <td>5,000,000/year</td>\n",
       "      <td>0</td>\n",
       "      <td>1</td>\n",
       "      <td>0</td>\n",
       "      <td>4 beds</td>\n",
       "      <td>4 baths</td>\n",
       "      <td>5 Toilets</td>\n",
       "    </tr>\n",
       "    <tr>\n",
       "      <th>2</th>\n",
       "      <td>Furnished 2 Bedroom Terrace Duplex For Rent !!!</td>\n",
       "      <td>2 BEDROOM HOUSE FOR RENT</td>\n",
       "      <td>Osapa London Lekki Lagos</td>\n",
       "      <td>3,500,000</td>\n",
       "      <td>1</td>\n",
       "      <td>0</td>\n",
       "      <td>0</td>\n",
       "      <td>2 beds</td>\n",
       "      <td>3 baths</td>\n",
       "      <td>3 Toilets</td>\n",
       "    </tr>\n",
       "    <tr>\n",
       "      <th>3</th>\n",
       "      <td>2 Bedroom Apartment For Rent</td>\n",
       "      <td>2 BEDROOM HOUSE FOR RENT</td>\n",
       "      <td>Ologolo Lekki Lagos</td>\n",
       "      <td>2,700,000</td>\n",
       "      <td>1</td>\n",
       "      <td>1</td>\n",
       "      <td>0</td>\n",
       "      <td>2 beds</td>\n",
       "      <td>3 baths</td>\n",
       "      <td>3 Toilets</td>\n",
       "    </tr>\n",
       "    <tr>\n",
       "      <th>4</th>\n",
       "      <td>?? Brand New 2 Bedroom Flat For Rent!!! (groun...</td>\n",
       "      <td>2 BEDROOM HOUSE FOR RENT</td>\n",
       "      <td>Mojisola Onikoyi Ikoyi Lagos</td>\n",
       "      <td>5,000,000</td>\n",
       "      <td>1</td>\n",
       "      <td>1</td>\n",
       "      <td>0</td>\n",
       "      <td>2 beds</td>\n",
       "      <td>3 baths</td>\n",
       "      <td>3 Toilets</td>\n",
       "    </tr>\n",
       "    <tr>\n",
       "      <th>...</th>\n",
       "      <td>...</td>\n",
       "      <td>...</td>\n",
       "      <td>...</td>\n",
       "      <td>...</td>\n",
       "      <td>...</td>\n",
       "      <td>...</td>\n",
       "      <td>...</td>\n",
       "      <td>...</td>\n",
       "      <td>...</td>\n",
       "      <td>...</td>\n",
       "    </tr>\n",
       "    <tr>\n",
       "      <th>98075</th>\n",
       "      <td>4 Bedroom Duplex In Serene Neighborhood</td>\n",
       "      <td>4 BEDROOM HOUSE FOR RENT</td>\n",
       "      <td>Akala Akobo Ibadan Oyo</td>\n",
       "      <td>900,000</td>\n",
       "      <td>0</td>\n",
       "      <td>0</td>\n",
       "      <td>0</td>\n",
       "      <td>4 beds</td>\n",
       "      <td>4 baths</td>\n",
       "      <td>4 Toilets</td>\n",
       "    </tr>\n",
       "    <tr>\n",
       "      <th>98076</th>\n",
       "      <td>Lovely Built 3 Bedroom Flats Self Compound</td>\n",
       "      <td>3 BEDROOM SELF CONTAIN FOR RENT</td>\n",
       "      <td>Oluwaga Road. Baruwa Ipaja Lagos</td>\n",
       "      <td>500,000</td>\n",
       "      <td>0</td>\n",
       "      <td>1</td>\n",
       "      <td>1</td>\n",
       "      <td>3 beds</td>\n",
       "      <td>4 baths</td>\n",
       "      <td>4 Toilets</td>\n",
       "    </tr>\n",
       "    <tr>\n",
       "      <th>98077</th>\n",
       "      <td>Executive 2 Bedroom Flat</td>\n",
       "      <td>2 BEDROOM BLOCKS OF FLATS FOR RENT</td>\n",
       "      <td>By Sterling Bank Magboro Obafemi Owode Ogun</td>\n",
       "      <td>330,000</td>\n",
       "      <td>0</td>\n",
       "      <td>0</td>\n",
       "      <td>1</td>\n",
       "      <td>2 beds</td>\n",
       "      <td>3 baths</td>\n",
       "      <td>3 Toilets</td>\n",
       "    </tr>\n",
       "    <tr>\n",
       "      <th>98078</th>\n",
       "      <td>Executive Brand New 2 Bedroom Flat All Rooms E...</td>\n",
       "      <td>2 BEDROOM BLOCKS OF FLATS FOR RENT</td>\n",
       "      <td>Arepo Arepo Arepo Ogun</td>\n",
       "      <td>400,000</td>\n",
       "      <td>0</td>\n",
       "      <td>1</td>\n",
       "      <td>1</td>\n",
       "      <td>2 beds</td>\n",
       "      <td>3 baths</td>\n",
       "      <td>3 Toilets</td>\n",
       "    </tr>\n",
       "    <tr>\n",
       "      <th>98079</th>\n",
       "      <td>3 Bedroom Flat All Ensuit</td>\n",
       "      <td>3 BEDROOM BLOCKS OF FLATS FOR RENT</td>\n",
       "      <td>3bedroom Flat At Jeje Area, Apete.all Rooms En...</td>\n",
       "      <td>150,000</td>\n",
       "      <td>0</td>\n",
       "      <td>0</td>\n",
       "      <td>0</td>\n",
       "      <td>3 beds</td>\n",
       "      <td>3 baths</td>\n",
       "      <td>3 Toilets</td>\n",
       "    </tr>\n",
       "  </tbody>\n",
       "</table>\n",
       "<p>98080 rows × 10 columns</p>\n",
       "</div>"
      ],
      "text/plain": [
       "                                                   Title  \\\n",
       "0      Newly Built 4 Bedroom Semi Detached House With Bq   \n",
       "1          Superb 4 Bedroom Semi Detached Duplex With Bq   \n",
       "2        Furnished 2 Bedroom Terrace Duplex For Rent !!!   \n",
       "3                           2 Bedroom Apartment For Rent   \n",
       "4      ?? Brand New 2 Bedroom Flat For Rent!!! (groun...   \n",
       "...                                                  ...   \n",
       "98075            4 Bedroom Duplex In Serene Neighborhood   \n",
       "98076         Lovely Built 3 Bedroom Flats Self Compound   \n",
       "98077                           Executive 2 Bedroom Flat   \n",
       "98078  Executive Brand New 2 Bedroom Flat All Rooms E...   \n",
       "98079                          3 Bedroom Flat All Ensuit   \n",
       "\n",
       "                                More Info  \\\n",
       "0                4 BEDROOM HOUSE FOR RENT   \n",
       "1                4 BEDROOM HOUSE FOR RENT   \n",
       "2                2 BEDROOM HOUSE FOR RENT   \n",
       "3                2 BEDROOM HOUSE FOR RENT   \n",
       "4                2 BEDROOM HOUSE FOR RENT   \n",
       "...                                   ...   \n",
       "98075            4 BEDROOM HOUSE FOR RENT   \n",
       "98076     3 BEDROOM SELF CONTAIN FOR RENT   \n",
       "98077  2 BEDROOM BLOCKS OF FLATS FOR RENT   \n",
       "98078  2 BEDROOM BLOCKS OF FLATS FOR RENT   \n",
       "98079  3 BEDROOM BLOCKS OF FLATS FOR RENT   \n",
       "\n",
       "                                                Location           Price  \\\n",
       "0      White Oak Estate, Ologolo Opp. Agungi, Ologolo...  5,000,000/year   \n",
       "1          Hrc Estate Beside Vgc Estate, Vgc Lekki Lagos  5,000,000/year   \n",
       "2                               Osapa London Lekki Lagos       3,500,000   \n",
       "3                                    Ologolo Lekki Lagos       2,700,000   \n",
       "4                           Mojisola Onikoyi Ikoyi Lagos       5,000,000   \n",
       "...                                                  ...             ...   \n",
       "98075                             Akala Akobo Ibadan Oyo         900,000   \n",
       "98076                   Oluwaga Road. Baruwa Ipaja Lagos         500,000   \n",
       "98077        By Sterling Bank Magboro Obafemi Owode Ogun         330,000   \n",
       "98078                             Arepo Arepo Arepo Ogun         400,000   \n",
       "98079  3bedroom Flat At Jeje Area, Apete.all Rooms En...         150,000   \n",
       "\n",
       "       Serviced  Newly Built  Furnished Bedrooms Bathrooms    Toilets  \n",
       "0             0            1          0   4 beds   4 baths  5 Toilets  \n",
       "1             0            1          0   4 beds   4 baths  5 Toilets  \n",
       "2             1            0          0   2 beds   3 baths  3 Toilets  \n",
       "3             1            1          0   2 beds   3 baths  3 Toilets  \n",
       "4             1            1          0   2 beds   3 baths  3 Toilets  \n",
       "...         ...          ...        ...      ...       ...        ...  \n",
       "98075         0            0          0   4 beds   4 baths  4 Toilets  \n",
       "98076         0            1          1   3 beds   4 baths  4 Toilets  \n",
       "98077         0            0          1   2 beds   3 baths  3 Toilets  \n",
       "98078         0            1          1   2 beds   3 baths  3 Toilets  \n",
       "98079         0            0          0   3 beds   3 baths  3 Toilets  \n",
       "\n",
       "[98080 rows x 10 columns]"
      ]
     },
     "execution_count": 3,
     "metadata": {},
     "output_type": "execute_result"
    }
   ],
   "source": [
    "rent"
   ]
  },
  {
   "cell_type": "markdown",
   "metadata": {},
   "source": [
    "## Choosing Rented Residentials"
   ]
  },
  {
   "cell_type": "code",
   "execution_count": 4,
   "metadata": {},
   "outputs": [
    {
     "data": {
      "text/plain": [
       "14309               2 BEDROOM HOUSE FOR RENT\n",
       "77276                         HOUSE FOR RENT\n",
       "11118              FLAT / APARTMENT FOR RENT\n",
       "31008    3 BEDROOM FLAT / APARTMENT FOR RENT\n",
       "88211    2 BEDROOM FLAT / APARTMENT FOR RENT\n",
       "Name: More Info, dtype: object"
      ]
     },
     "execution_count": 4,
     "metadata": {},
     "output_type": "execute_result"
    }
   ],
   "source": [
    "rent[\"More Info\"].sample(5)"
   ]
  },
  {
   "cell_type": "code",
   "execution_count": 5,
   "metadata": {},
   "outputs": [],
   "source": [
    "def rental(feature):\n",
    "    final = []\n",
    "    for row in feature:\n",
    "        row = row.lower()\n",
    "        if (\"bedroom\" in row) or (\"flat\" in row) or (\"house\" in row) or (\"apartment\" in row) or (\"self contain\" in row) and (not \"office\" in row):\n",
    "            final.append(\"rent\")\n",
    "        else:\n",
    "            final.append(\"other.row\")\n",
    "    return final"
   ]
  },
  {
   "cell_type": "code",
   "execution_count": 6,
   "metadata": {},
   "outputs": [],
   "source": [
    "rent[\"Type\"] = rental(rent[\"More Info\"])"
   ]
  },
  {
   "cell_type": "code",
   "execution_count": 7,
   "metadata": {},
   "outputs": [],
   "source": [
    "rent = rent[rent[\"Type\"] == \"rent\"].copy()"
   ]
  },
  {
   "cell_type": "markdown",
   "metadata": {},
   "source": [
    "## Extracting State"
   ]
  },
  {
   "cell_type": "code",
   "execution_count": 8,
   "metadata": {},
   "outputs": [
    {
     "data": {
      "text/plain": [
       "0        White Oak Estate, Ologolo Opp. Agungi, Ologolo...\n",
       "1            Hrc Estate Beside Vgc Estate, Vgc Lekki Lagos\n",
       "2                                 Osapa London Lekki Lagos\n",
       "3                                      Ologolo Lekki Lagos\n",
       "4                             Mojisola Onikoyi Ikoyi Lagos\n",
       "                               ...                        \n",
       "98075                               Akala Akobo Ibadan Oyo\n",
       "98076                     Oluwaga Road. Baruwa Ipaja Lagos\n",
       "98077          By Sterling Bank Magboro Obafemi Owode Ogun\n",
       "98078                               Arepo Arepo Arepo Ogun\n",
       "98079    3bedroom Flat At Jeje Area, Apete.all Rooms En...\n",
       "Name: Location, Length: 93980, dtype: object"
      ]
     },
     "execution_count": 8,
     "metadata": {},
     "output_type": "execute_result"
    }
   ],
   "source": [
    "rent[\"Location\"]"
   ]
  },
  {
   "cell_type": "code",
   "execution_count": 9,
   "metadata": {},
   "outputs": [],
   "source": [
    "def state(feature):\n",
    "    return [row.split(\" \")[-1] for row in feature]"
   ]
  },
  {
   "cell_type": "code",
   "execution_count": 10,
   "metadata": {},
   "outputs": [],
   "source": [
    "rent[\"State\"] = state(rent[\"Location\"])"
   ]
  },
  {
   "cell_type": "code",
   "execution_count": 11,
   "metadata": {},
   "outputs": [],
   "source": [
    "lagos = rent[rent[\"State\"] == \"Lagos\"]"
   ]
  },
  {
   "cell_type": "markdown",
   "metadata": {},
   "source": [
    "## Extract Lagos Cities"
   ]
  },
  {
   "cell_type": "code",
   "execution_count": 12,
   "metadata": {},
   "outputs": [
    {
     "data": {
      "text/html": [
       "<div>\n",
       "<style scoped>\n",
       "    .dataframe tbody tr th:only-of-type {\n",
       "        vertical-align: middle;\n",
       "    }\n",
       "\n",
       "    .dataframe tbody tr th {\n",
       "        vertical-align: top;\n",
       "    }\n",
       "\n",
       "    .dataframe thead th {\n",
       "        text-align: right;\n",
       "    }\n",
       "</style>\n",
       "<table border=\"1\" class=\"dataframe\">\n",
       "  <thead>\n",
       "    <tr style=\"text-align: right;\">\n",
       "      <th></th>\n",
       "      <th>Title</th>\n",
       "      <th>More Info</th>\n",
       "      <th>Location</th>\n",
       "      <th>Price</th>\n",
       "      <th>Serviced</th>\n",
       "      <th>Newly Built</th>\n",
       "      <th>Furnished</th>\n",
       "      <th>Bedrooms</th>\n",
       "      <th>Bathrooms</th>\n",
       "      <th>Toilets</th>\n",
       "      <th>Type</th>\n",
       "      <th>State</th>\n",
       "    </tr>\n",
       "  </thead>\n",
       "  <tbody>\n",
       "    <tr>\n",
       "      <th>0</th>\n",
       "      <td>Newly Built 4 Bedroom Semi Detached House With Bq</td>\n",
       "      <td>4 BEDROOM HOUSE FOR RENT</td>\n",
       "      <td>White Oak Estate, Ologolo Opp. Agungi, Ologolo...</td>\n",
       "      <td>5,000,000/year</td>\n",
       "      <td>0</td>\n",
       "      <td>1</td>\n",
       "      <td>0</td>\n",
       "      <td>4 beds</td>\n",
       "      <td>4 baths</td>\n",
       "      <td>5 Toilets</td>\n",
       "      <td>rent</td>\n",
       "      <td>Lagos</td>\n",
       "    </tr>\n",
       "    <tr>\n",
       "      <th>1</th>\n",
       "      <td>Superb 4 Bedroom Semi Detached Duplex With Bq</td>\n",
       "      <td>4 BEDROOM HOUSE FOR RENT</td>\n",
       "      <td>Hrc Estate Beside Vgc Estate, Vgc Lekki Lagos</td>\n",
       "      <td>5,000,000/year</td>\n",
       "      <td>0</td>\n",
       "      <td>1</td>\n",
       "      <td>0</td>\n",
       "      <td>4 beds</td>\n",
       "      <td>4 baths</td>\n",
       "      <td>5 Toilets</td>\n",
       "      <td>rent</td>\n",
       "      <td>Lagos</td>\n",
       "    </tr>\n",
       "    <tr>\n",
       "      <th>2</th>\n",
       "      <td>Furnished 2 Bedroom Terrace Duplex For Rent !!!</td>\n",
       "      <td>2 BEDROOM HOUSE FOR RENT</td>\n",
       "      <td>Osapa London Lekki Lagos</td>\n",
       "      <td>3,500,000</td>\n",
       "      <td>1</td>\n",
       "      <td>0</td>\n",
       "      <td>0</td>\n",
       "      <td>2 beds</td>\n",
       "      <td>3 baths</td>\n",
       "      <td>3 Toilets</td>\n",
       "      <td>rent</td>\n",
       "      <td>Lagos</td>\n",
       "    </tr>\n",
       "    <tr>\n",
       "      <th>3</th>\n",
       "      <td>2 Bedroom Apartment For Rent</td>\n",
       "      <td>2 BEDROOM HOUSE FOR RENT</td>\n",
       "      <td>Ologolo Lekki Lagos</td>\n",
       "      <td>2,700,000</td>\n",
       "      <td>1</td>\n",
       "      <td>1</td>\n",
       "      <td>0</td>\n",
       "      <td>2 beds</td>\n",
       "      <td>3 baths</td>\n",
       "      <td>3 Toilets</td>\n",
       "      <td>rent</td>\n",
       "      <td>Lagos</td>\n",
       "    </tr>\n",
       "    <tr>\n",
       "      <th>4</th>\n",
       "      <td>?? Brand New 2 Bedroom Flat For Rent!!! (groun...</td>\n",
       "      <td>2 BEDROOM HOUSE FOR RENT</td>\n",
       "      <td>Mojisola Onikoyi Ikoyi Lagos</td>\n",
       "      <td>5,000,000</td>\n",
       "      <td>1</td>\n",
       "      <td>1</td>\n",
       "      <td>0</td>\n",
       "      <td>2 beds</td>\n",
       "      <td>3 baths</td>\n",
       "      <td>3 Toilets</td>\n",
       "      <td>rent</td>\n",
       "      <td>Lagos</td>\n",
       "    </tr>\n",
       "  </tbody>\n",
       "</table>\n",
       "</div>"
      ],
      "text/plain": [
       "                                               Title  \\\n",
       "0  Newly Built 4 Bedroom Semi Detached House With Bq   \n",
       "1      Superb 4 Bedroom Semi Detached Duplex With Bq   \n",
       "2    Furnished 2 Bedroom Terrace Duplex For Rent !!!   \n",
       "3                       2 Bedroom Apartment For Rent   \n",
       "4  ?? Brand New 2 Bedroom Flat For Rent!!! (groun...   \n",
       "\n",
       "                  More Info  \\\n",
       "0  4 BEDROOM HOUSE FOR RENT   \n",
       "1  4 BEDROOM HOUSE FOR RENT   \n",
       "2  2 BEDROOM HOUSE FOR RENT   \n",
       "3  2 BEDROOM HOUSE FOR RENT   \n",
       "4  2 BEDROOM HOUSE FOR RENT   \n",
       "\n",
       "                                            Location           Price  \\\n",
       "0  White Oak Estate, Ologolo Opp. Agungi, Ologolo...  5,000,000/year   \n",
       "1      Hrc Estate Beside Vgc Estate, Vgc Lekki Lagos  5,000,000/year   \n",
       "2                           Osapa London Lekki Lagos       3,500,000   \n",
       "3                                Ologolo Lekki Lagos       2,700,000   \n",
       "4                       Mojisola Onikoyi Ikoyi Lagos       5,000,000   \n",
       "\n",
       "   Serviced  Newly Built  Furnished Bedrooms Bathrooms    Toilets  Type  State  \n",
       "0         0            1          0   4 beds   4 baths  5 Toilets  rent  Lagos  \n",
       "1         0            1          0   4 beds   4 baths  5 Toilets  rent  Lagos  \n",
       "2         1            0          0   2 beds   3 baths  3 Toilets  rent  Lagos  \n",
       "3         1            1          0   2 beds   3 baths  3 Toilets  rent  Lagos  \n",
       "4         1            1          0   2 beds   3 baths  3 Toilets  rent  Lagos  "
      ]
     },
     "execution_count": 12,
     "metadata": {},
     "output_type": "execute_result"
    }
   ],
   "source": [
    "lagos.head()"
   ]
  },
  {
   "cell_type": "code",
   "execution_count": 13,
   "metadata": {},
   "outputs": [
    {
     "name": "stderr",
     "output_type": "stream",
     "text": [
      "C:\\Users\\Mofe\\AppData\\Local\\Temp\\ipykernel_10732\\1610520203.py:2: SettingWithCopyWarning: \n",
      "A value is trying to be set on a copy of a slice from a DataFrame\n",
      "\n",
      "See the caveats in the documentation: https://pandas.pydata.org/pandas-docs/stable/user_guide/indexing.html#returning-a-view-versus-a-copy\n",
      "  lagos.drop_duplicates(inplace=True)\n"
     ]
    }
   ],
   "source": [
    "# Drop duplicates\n",
    "lagos.drop_duplicates(inplace=True)"
   ]
  },
  {
   "cell_type": "code",
   "execution_count": 14,
   "metadata": {},
   "outputs": [],
   "source": [
    "def city(feature):\n",
    "    return [row.split(\" \")[-2] for row in feature]"
   ]
  },
  {
   "cell_type": "code",
   "execution_count": 15,
   "metadata": {},
   "outputs": [
    {
     "name": "stderr",
     "output_type": "stream",
     "text": [
      "C:\\Users\\Mofe\\AppData\\Local\\Temp\\ipykernel_10732\\1855218503.py:1: SettingWithCopyWarning: \n",
      "A value is trying to be set on a copy of a slice from a DataFrame.\n",
      "Try using .loc[row_indexer,col_indexer] = value instead\n",
      "\n",
      "See the caveats in the documentation: https://pandas.pydata.org/pandas-docs/stable/user_guide/indexing.html#returning-a-view-versus-a-copy\n",
      "  lagos[\"City\"] = city(lagos[\"Location\"])\n"
     ]
    }
   ],
   "source": [
    "lagos[\"City\"] = city(lagos[\"Location\"])"
   ]
  },
  {
   "cell_type": "code",
   "execution_count": 16,
   "metadata": {},
   "outputs": [
    {
     "data": {
      "text/plain": [
       "Lekki       0.257358\n",
       "Ajah        0.084102\n",
       "Yaba        0.067437\n",
       "Ojodu       0.063096\n",
       "Ikoyi       0.058675\n",
       "Surulere    0.051539\n",
       "Gbagada     0.047762\n",
       "Ikeja       0.047453\n",
       "Island      0.035788\n",
       "Shomolu     0.031945\n",
       "Name: City, dtype: float64"
      ]
     },
     "execution_count": 16,
     "metadata": {},
     "output_type": "execute_result"
    }
   ],
   "source": [
    "lagos[\"City\"].value_counts(normalize=True).head(10)"
   ]
  },
  {
   "cell_type": "code",
   "execution_count": 17,
   "metadata": {},
   "outputs": [],
   "source": [
    "lagos = lagos[(lagos[\"City\"] == \"Lekki\") | (lagos[\"City\"] == \"Ajah\") | (lagos[\"City\"] == \"Yaba\") | (lagos[\"City\"] == \"Ojodu\") | (lagos[\"City\"] == \"Ikoyi\") |\n",
    "(lagos[\"City\"] == \"Ikeja\") | (lagos[\"City\"] == \"Surulere\") | (lagos[\"City\"] == \"Gbagada\") | (lagos[\"City\"] == \"Island\")].copy()"
   ]
  },
  {
   "cell_type": "code",
   "execution_count": 18,
   "metadata": {},
   "outputs": [
    {
     "data": {
      "text/plain": [
       "Lekki       19150\n",
       "Ajah         6258\n",
       "Yaba         5018\n",
       "Ojodu        4695\n",
       "Ikoyi        4366\n",
       "Surulere     3835\n",
       "Gbagada      3554\n",
       "Ikeja        3531\n",
       "Island       2663\n",
       "Name: City, dtype: int64"
      ]
     },
     "execution_count": 18,
     "metadata": {},
     "output_type": "execute_result"
    }
   ],
   "source": [
    "lagos[\"City\"].value_counts()"
   ]
  },
  {
   "cell_type": "markdown",
   "metadata": {},
   "source": [
    "## Extracting Lagos Neighborhood"
   ]
  },
  {
   "cell_type": "markdown",
   "metadata": {},
   "source": [
    "### Lekki"
   ]
  },
  {
   "cell_type": "code",
   "execution_count": 19,
   "metadata": {},
   "outputs": [],
   "source": [
    "lekki = lagos[lagos[\"City\"] == \"Lekki\"]"
   ]
  },
  {
   "cell_type": "code",
   "execution_count": 20,
   "metadata": {},
   "outputs": [
    {
     "name": "stderr",
     "output_type": "stream",
     "text": [
      "C:\\Users\\Mofe\\AppData\\Local\\Temp\\ipykernel_10732\\3893823052.py:7: SettingWithCopyWarning: \n",
      "A value is trying to be set on a copy of a slice from a DataFrame.\n",
      "Try using .loc[row_indexer,col_indexer] = value instead\n",
      "\n",
      "See the caveats in the documentation: https://pandas.pydata.org/pandas-docs/stable/user_guide/indexing.html#returning-a-view-versus-a-copy\n",
      "  lekki[\"Neighborhood\"] = final\n"
     ]
    }
   ],
   "source": [
    "final = []\n",
    "for row in lekki[\"Location\"]:\n",
    "    try:\n",
    "        final.append(row.split(\" \")[-3])\n",
    "    except:\n",
    "        final.append(\"Other\")\n",
    "lekki[\"Neighborhood\"] = final        "
   ]
  },
  {
   "cell_type": "code",
   "execution_count": 21,
   "metadata": {},
   "outputs": [],
   "source": [
    "final = []\n",
    "for value in lekki[\"Location\"]:\n",
    "    if \"1\" in value:\n",
    "        final.append(\"Lekki Phase 1\")\n",
    "    elif \"chevron\" in value.lower():\n",
    "        final.append(\"Chevron\")\n",
    "    elif \"ikate\" in value.lower():\n",
    "        final.append(\"Ikate\")\n",
    "    elif \"ikota\" in value.lower():\n",
    "        final.append(\"Ikota\")\n",
    "    elif (\"london\" in value.lower()) or (\"osapa\" in value.lower()):\n",
    "        final.append(\"Osapa London\")\n",
    "    elif \"agungi\" in value.lower():\n",
    "        final.append(\"Agungi\")\n",
    "    elif \"ologolo\" in value.lower():\n",
    "        final.append(\"Ologolo\")\n",
    "    else:\n",
    "        final.append(\"Other Lekki\")"
   ]
  },
  {
   "cell_type": "code",
   "execution_count": 22,
   "metadata": {},
   "outputs": [
    {
     "name": "stderr",
     "output_type": "stream",
     "text": [
      "C:\\Users\\Mofe\\AppData\\Local\\Temp\\ipykernel_10732\\668707730.py:1: SettingWithCopyWarning: \n",
      "A value is trying to be set on a copy of a slice from a DataFrame.\n",
      "Try using .loc[row_indexer,col_indexer] = value instead\n",
      "\n",
      "See the caveats in the documentation: https://pandas.pydata.org/pandas-docs/stable/user_guide/indexing.html#returning-a-view-versus-a-copy\n",
      "  lekki[\"Neighborhood\"] = final\n"
     ]
    }
   ],
   "source": [
    "lekki[\"Neighborhood\"] = final"
   ]
  },
  {
   "cell_type": "code",
   "execution_count": 23,
   "metadata": {},
   "outputs": [
    {
     "data": {
      "text/plain": [
       "Lekki Phase 1    5262\n",
       "Other Lekki      3880\n",
       "Chevron          2511\n",
       "Ikate            2047\n",
       "Osapa London     1863\n",
       "Ikota            1848\n",
       "Agungi           1015\n",
       "Ologolo           724\n",
       "Name: Neighborhood, dtype: int64"
      ]
     },
     "execution_count": 23,
     "metadata": {},
     "output_type": "execute_result"
    }
   ],
   "source": [
    "lekki[\"Neighborhood\"].value_counts()"
   ]
  },
  {
   "cell_type": "markdown",
   "metadata": {},
   "source": [
    "### Ajah"
   ]
  },
  {
   "cell_type": "code",
   "execution_count": 24,
   "metadata": {},
   "outputs": [],
   "source": [
    "ajah = lagos[lagos[\"City\"] == \"Ajah\"]"
   ]
  },
  {
   "cell_type": "code",
   "execution_count": 25,
   "metadata": {},
   "outputs": [
    {
     "name": "stderr",
     "output_type": "stream",
     "text": [
      "C:\\Users\\Mofe\\AppData\\Local\\Temp\\ipykernel_10732\\3347568413.py:7: SettingWithCopyWarning: \n",
      "A value is trying to be set on a copy of a slice from a DataFrame.\n",
      "Try using .loc[row_indexer,col_indexer] = value instead\n",
      "\n",
      "See the caveats in the documentation: https://pandas.pydata.org/pandas-docs/stable/user_guide/indexing.html#returning-a-view-versus-a-copy\n",
      "  ajah[\"Neighborhood\"] = final\n"
     ]
    }
   ],
   "source": [
    "final = []\n",
    "for row in ajah[\"Location\"]:\n",
    "    try:\n",
    "        final.append(row.split(\" \")[-3])\n",
    "    except:\n",
    "        final.append(\"Other\")\n",
    "ajah[\"Neighborhood\"] = final        "
   ]
  },
  {
   "cell_type": "code",
   "execution_count": 26,
   "metadata": {},
   "outputs": [],
   "source": [
    "final = []\n",
    "for value in ajah[\"Location\"]:\n",
    "    if \"badore\" in value.lower():\n",
    "        final.append(\"Badore\")\n",
    "    elif \"sangotedo\" in value.lower():\n",
    "        final.append(\"Sangotedo\")\n",
    "    elif (\"ado\" in value.lower()) and not (\"badore\" in value.lower()):\n",
    "        final.append(\"Ado\")\n",
    "    elif \"lekki\" in value.lower():\n",
    "        final.append(\"Lekki Scheme\")\n",
    "    else:\n",
    "        final.append(\"Other Ajah\")"
   ]
  },
  {
   "cell_type": "code",
   "execution_count": 27,
   "metadata": {},
   "outputs": [
    {
     "name": "stderr",
     "output_type": "stream",
     "text": [
      "C:\\Users\\Mofe\\AppData\\Local\\Temp\\ipykernel_10732\\2875935150.py:1: SettingWithCopyWarning: \n",
      "A value is trying to be set on a copy of a slice from a DataFrame.\n",
      "Try using .loc[row_indexer,col_indexer] = value instead\n",
      "\n",
      "See the caveats in the documentation: https://pandas.pydata.org/pandas-docs/stable/user_guide/indexing.html#returning-a-view-versus-a-copy\n",
      "  ajah[\"Neighborhood\"] = final\n"
     ]
    },
    {
     "data": {
      "text/plain": [
       "Other Ajah      2639\n",
       "Badore          1333\n",
       "Sangotedo       1260\n",
       "Ado              531\n",
       "Lekki Scheme     495\n",
       "Name: Neighborhood, dtype: int64"
      ]
     },
     "execution_count": 27,
     "metadata": {},
     "output_type": "execute_result"
    }
   ],
   "source": [
    "ajah[\"Neighborhood\"] = final\n",
    "ajah[\"Neighborhood\"].value_counts()"
   ]
  },
  {
   "cell_type": "markdown",
   "metadata": {},
   "source": [
    "### Yaba"
   ]
  },
  {
   "cell_type": "code",
   "execution_count": 28,
   "metadata": {},
   "outputs": [],
   "source": [
    "yaba = lagos[lagos[\"City\"] == \"Yaba\"]"
   ]
  },
  {
   "cell_type": "code",
   "execution_count": 29,
   "metadata": {},
   "outputs": [
    {
     "name": "stderr",
     "output_type": "stream",
     "text": [
      "C:\\Users\\Mofe\\AppData\\Local\\Temp\\ipykernel_10732\\446137973.py:7: SettingWithCopyWarning: \n",
      "A value is trying to be set on a copy of a slice from a DataFrame.\n",
      "Try using .loc[row_indexer,col_indexer] = value instead\n",
      "\n",
      "See the caveats in the documentation: https://pandas.pydata.org/pandas-docs/stable/user_guide/indexing.html#returning-a-view-versus-a-copy\n",
      "  yaba[\"Neighborhood\"] = final\n"
     ]
    }
   ],
   "source": [
    "final = []\n",
    "for row in yaba[\"Location\"]:\n",
    "    try:\n",
    "        final.append(row.split(\" \")[-3])\n",
    "    except:\n",
    "        final.append(\"Other\")\n",
    "yaba[\"Neighborhood\"] = final        "
   ]
  },
  {
   "cell_type": "code",
   "execution_count": 30,
   "metadata": {},
   "outputs": [
    {
     "name": "stderr",
     "output_type": "stream",
     "text": [
      "C:\\Users\\Mofe\\AppData\\Local\\Temp\\ipykernel_10732\\654462322.py:21: SettingWithCopyWarning: \n",
      "A value is trying to be set on a copy of a slice from a DataFrame.\n",
      "Try using .loc[row_indexer,col_indexer] = value instead\n",
      "\n",
      "See the caveats in the documentation: https://pandas.pydata.org/pandas-docs/stable/user_guide/indexing.html#returning-a-view-versus-a-copy\n",
      "  yaba[\"Neighborhood\"] = final\n"
     ]
    },
    {
     "data": {
      "text/plain": [
       "Other Yaba     960\n",
       "Akoka          893\n",
       "Alagomeji      678\n",
       "Onike          564\n",
       "Agoro          483\n",
       "Ebute-Metta    482\n",
       "Sabo           353\n",
       "Jibowu         314\n",
       "Ijesha         291\n",
       "Name: Neighborhood, dtype: int64"
      ]
     },
     "execution_count": 30,
     "metadata": {},
     "output_type": "execute_result"
    }
   ],
   "source": [
    "final = []\n",
    "for value in yaba[\"Location\"]:\n",
    "    if \"akoka\" in value.lower():\n",
    "        final.append(\"Akoka\")\n",
    "    elif \"alagomeji\" in value.lower():\n",
    "        final.append(\"Alagomeji\")\n",
    "    elif \"onike\" in value.lower():\n",
    "        final.append(\"Onike\")\n",
    "    elif \"agoro\" in value.lower():\n",
    "        final.append(\"Agoro\")\n",
    "    elif \"metta\" in value.lower():\n",
    "        final.append(\"Ebute-Metta\")\n",
    "    elif \"sabo\" in value.lower():\n",
    "        final.append(\"Sabo\")\n",
    "    elif \"jibowu\" in value.lower():\n",
    "        final.append(\"Jibowu\")\n",
    "    elif \"ijesha\" in value.lower():\n",
    "        final.append(\"Ijesha\")\n",
    "    else:\n",
    "        final.append(\"Other Yaba\")\n",
    "yaba[\"Neighborhood\"] = final\n",
    "yaba[\"Neighborhood\"].value_counts()"
   ]
  },
  {
   "cell_type": "markdown",
   "metadata": {},
   "source": [
    "### Ojodu"
   ]
  },
  {
   "cell_type": "code",
   "execution_count": 31,
   "metadata": {},
   "outputs": [],
   "source": [
    "ojodu = lagos[lagos[\"City\"] == \"Ojodu\"]"
   ]
  },
  {
   "cell_type": "code",
   "execution_count": 32,
   "metadata": {},
   "outputs": [
    {
     "name": "stderr",
     "output_type": "stream",
     "text": [
      "C:\\Users\\Mofe\\AppData\\Local\\Temp\\ipykernel_10732\\3534329805.py:7: SettingWithCopyWarning: \n",
      "A value is trying to be set on a copy of a slice from a DataFrame.\n",
      "Try using .loc[row_indexer,col_indexer] = value instead\n",
      "\n",
      "See the caveats in the documentation: https://pandas.pydata.org/pandas-docs/stable/user_guide/indexing.html#returning-a-view-versus-a-copy\n",
      "  ojodu[\"Neighborhood\"] = final\n"
     ]
    }
   ],
   "source": [
    "final = []\n",
    "for row in ojodu[\"Location\"]:\n",
    "    try:\n",
    "        final.append(row.split(\" \")[-3])\n",
    "    except:\n",
    "        final.append(\"Other\")\n",
    "ojodu[\"Neighborhood\"] = final        "
   ]
  },
  {
   "cell_type": "code",
   "execution_count": 33,
   "metadata": {},
   "outputs": [
    {
     "name": "stderr",
     "output_type": "stream",
     "text": [
      "C:\\Users\\Mofe\\AppData\\Local\\Temp\\ipykernel_10732\\2864525013.py:17: SettingWithCopyWarning: \n",
      "A value is trying to be set on a copy of a slice from a DataFrame.\n",
      "Try using .loc[row_indexer,col_indexer] = value instead\n",
      "\n",
      "See the caveats in the documentation: https://pandas.pydata.org/pandas-docs/stable/user_guide/indexing.html#returning-a-view-versus-a-copy\n",
      "  ojodu[\"Neighborhood\"] = final\n"
     ]
    },
    {
     "data": {
      "text/plain": [
       "Magodo Gra Phase 1    1023\n",
       "Ojodu Berger           957\n",
       "Isheri North           690\n",
       "Other Ojodu            683\n",
       "Omole Phase 2          544\n",
       "Omole Phase 1          411\n",
       "Olowora                387\n",
       "Name: Neighborhood, dtype: int64"
      ]
     },
     "execution_count": 33,
     "metadata": {},
     "output_type": "execute_result"
    }
   ],
   "source": [
    "final = []\n",
    "for value in ojodu[\"Location\"]:\n",
    "    if (\"magodo\" in value.lower()) and (\"1\" in value.lower()):\n",
    "        final.append(\"Magodo Gra Phase 1\")\n",
    "    elif (\"omole\" in value.lower()) and (\"2\" in value.lower()):\n",
    "        final.append(\"Omole Phase 2\")\n",
    "    elif \"north\" in value.lower():\n",
    "        final.append(\"Isheri North\")\n",
    "    elif \"olowora\" in value.lower():\n",
    "        final.append(\"Olowora\")\n",
    "    elif (\"omole\" in value.lower()) and (\"1\" in value.lower()):\n",
    "        final.append(\"Omole Phase 1\")\n",
    "    elif (\"berger\" in value.lower()):\n",
    "        final.append(\"Ojodu Berger\")\n",
    "    else:\n",
    "        final.append(\"Other Ojodu\")\n",
    "ojodu[\"Neighborhood\"] = final\n",
    "ojodu[\"Neighborhood\"].value_counts()"
   ]
  },
  {
   "cell_type": "markdown",
   "metadata": {},
   "source": [
    "### Ikoyi"
   ]
  },
  {
   "cell_type": "code",
   "execution_count": 34,
   "metadata": {},
   "outputs": [],
   "source": [
    "ikoyi = lagos[lagos[\"City\"] == \"Ikoyi\"]"
   ]
  },
  {
   "cell_type": "code",
   "execution_count": 35,
   "metadata": {},
   "outputs": [
    {
     "name": "stderr",
     "output_type": "stream",
     "text": [
      "C:\\Users\\Mofe\\AppData\\Local\\Temp\\ipykernel_10732\\4284568391.py:7: SettingWithCopyWarning: \n",
      "A value is trying to be set on a copy of a slice from a DataFrame.\n",
      "Try using .loc[row_indexer,col_indexer] = value instead\n",
      "\n",
      "See the caveats in the documentation: https://pandas.pydata.org/pandas-docs/stable/user_guide/indexing.html#returning-a-view-versus-a-copy\n",
      "  ikoyi[\"Neighborhood\"] = final\n"
     ]
    }
   ],
   "source": [
    "final = []\n",
    "for row in ikoyi[\"Location\"]:\n",
    "    try:\n",
    "        final.append(row.split(\" \")[-3])\n",
    "    except:\n",
    "        final.append(\"Other\")\n",
    "ikoyi[\"Neighborhood\"] = final        "
   ]
  },
  {
   "cell_type": "code",
   "execution_count": 36,
   "metadata": {},
   "outputs": [
    {
     "name": "stderr",
     "output_type": "stream",
     "text": [
      "C:\\Users\\Mofe\\AppData\\Local\\Temp\\ipykernel_10732\\1410020334.py:19: SettingWithCopyWarning: \n",
      "A value is trying to be set on a copy of a slice from a DataFrame.\n",
      "Try using .loc[row_indexer,col_indexer] = value instead\n",
      "\n",
      "See the caveats in the documentation: https://pandas.pydata.org/pandas-docs/stable/user_guide/indexing.html#returning-a-view-versus-a-copy\n",
      "  ikoyi[\"Neighborhood\"] = final\n"
     ]
    },
    {
     "data": {
      "text/plain": [
       "Banana Island               1390\n",
       "Other Ikoyi                  998\n",
       "Old Ikoyi                    968\n",
       "Parkview Estate              463\n",
       "Osborne Foreshore Estate     235\n",
       "Bourdillon                   139\n",
       "Awolowo Road                  96\n",
       "Dolphin Estate                77\n",
       "Name: Neighborhood, dtype: int64"
      ]
     },
     "execution_count": 36,
     "metadata": {},
     "output_type": "execute_result"
    }
   ],
   "source": [
    "final = []\n",
    "for value in ikoyi[\"Location\"]:\n",
    "    if \"banana island\" in value.lower():\n",
    "        final.append(\"Banana Island\")\n",
    "    elif \"old ikoyi\" in value.lower():\n",
    "        final.append(\"Old Ikoyi\")\n",
    "    elif \"parkview estate\" in value.lower():\n",
    "        final.append(\"Parkview Estate\")\n",
    "    elif \"dolphin estate\" in value.lower():\n",
    "        final.append(\"Dolphin Estate\")\n",
    "    elif \"osborn\" in value.lower():\n",
    "        final.append(\"Osborne Foreshore Estate\")\n",
    "    elif \"bourdillon\" in value.lower():\n",
    "        final.append(\"Bourdillon\")\n",
    "    elif \"awolowo road\" in value.lower():\n",
    "        final.append(\"Awolowo Road\")\n",
    "    else:\n",
    "        final.append(\"Other Ikoyi\")\n",
    "ikoyi[\"Neighborhood\"] = final\n",
    "ikoyi[\"Neighborhood\"].value_counts()"
   ]
  },
  {
   "cell_type": "markdown",
   "metadata": {},
   "source": [
    "### Ikeja"
   ]
  },
  {
   "cell_type": "code",
   "execution_count": 37,
   "metadata": {},
   "outputs": [],
   "source": [
    "ikeja = lagos[lagos[\"City\"] == \"Ikeja\"]"
   ]
  },
  {
   "cell_type": "code",
   "execution_count": 38,
   "metadata": {},
   "outputs": [
    {
     "name": "stderr",
     "output_type": "stream",
     "text": [
      "C:\\Users\\Mofe\\AppData\\Local\\Temp\\ipykernel_10732\\2736936115.py:7: SettingWithCopyWarning: \n",
      "A value is trying to be set on a copy of a slice from a DataFrame.\n",
      "Try using .loc[row_indexer,col_indexer] = value instead\n",
      "\n",
      "See the caveats in the documentation: https://pandas.pydata.org/pandas-docs/stable/user_guide/indexing.html#returning-a-view-versus-a-copy\n",
      "  ikeja[\"Neighborhood\"] = final\n"
     ]
    }
   ],
   "source": [
    "final = []\n",
    "for row in ikeja[\"Location\"]:\n",
    "    try:\n",
    "        final.append(row.split(\" \")[-3])\n",
    "    except:\n",
    "        final.append(\"Other\")\n",
    "ikeja[\"Neighborhood\"] = final        "
   ]
  },
  {
   "cell_type": "code",
   "execution_count": 39,
   "metadata": {},
   "outputs": [
    {
     "name": "stderr",
     "output_type": "stream",
     "text": [
      "C:\\Users\\Mofe\\AppData\\Local\\Temp\\ipykernel_10732\\1316280873.py:21: SettingWithCopyWarning: \n",
      "A value is trying to be set on a copy of a slice from a DataFrame.\n",
      "Try using .loc[row_indexer,col_indexer] = value instead\n",
      "\n",
      "See the caveats in the documentation: https://pandas.pydata.org/pandas-docs/stable/user_guide/indexing.html#returning-a-view-versus-a-copy\n",
      "  ikeja[\"Neighborhood\"] = final\n"
     ]
    },
    {
     "data": {
      "text/plain": [
       "Other Ikeja      737\n",
       "GRA              643\n",
       "Adeniyi Jones    578\n",
       "Allen Avenue     416\n",
       "Opebi            393\n",
       "Oregun           247\n",
       "Awolowo way      203\n",
       "Toyin street     184\n",
       "alausa           130\n",
       "Name: Neighborhood, dtype: int64"
      ]
     },
     "execution_count": 39,
     "metadata": {},
     "output_type": "execute_result"
    }
   ],
   "source": [
    "final = []\n",
    "for value in ikeja[\"Location\"]:\n",
    "    if \"gra\" in value.lower():\n",
    "        final.append(\"GRA\")\n",
    "    elif \"jones\" in value.lower():\n",
    "        final.append(\"Adeniyi Jones\")\n",
    "    elif \"avenue\" in value.lower():\n",
    "        final.append(\"Allen Avenue\")\n",
    "    elif \"opebi\" in value.lower():\n",
    "        final.append(\"Opebi\")\n",
    "    elif \"oregun\" in value.lower():\n",
    "        final.append(\"Oregun\")\n",
    "    elif \"alausa\" in value.lower():\n",
    "        final.append(\"alausa\")\n",
    "    elif \"awolowo\" in value.lower():\n",
    "        final.append(\"Awolowo way\")\n",
    "    elif \"toyin\" in value.lower():\n",
    "        final.append(\"Toyin street\")\n",
    "    else:\n",
    "        final.append(\"Other Ikeja\")\n",
    "ikeja[\"Neighborhood\"] = final\n",
    "ikeja[\"Neighborhood\"].value_counts()"
   ]
  },
  {
   "cell_type": "markdown",
   "metadata": {},
   "source": [
    "### Surulere"
   ]
  },
  {
   "cell_type": "code",
   "execution_count": 40,
   "metadata": {},
   "outputs": [],
   "source": [
    "surulere = lagos[lagos[\"City\"] == \"Surulere\"]"
   ]
  },
  {
   "cell_type": "code",
   "execution_count": 41,
   "metadata": {},
   "outputs": [
    {
     "name": "stderr",
     "output_type": "stream",
     "text": [
      "C:\\Users\\Mofe\\AppData\\Local\\Temp\\ipykernel_10732\\4285856995.py:7: SettingWithCopyWarning: \n",
      "A value is trying to be set on a copy of a slice from a DataFrame.\n",
      "Try using .loc[row_indexer,col_indexer] = value instead\n",
      "\n",
      "See the caveats in the documentation: https://pandas.pydata.org/pandas-docs/stable/user_guide/indexing.html#returning-a-view-versus-a-copy\n",
      "  surulere[\"Neighborhood\"] = final\n"
     ]
    }
   ],
   "source": [
    "final = []\n",
    "for row in surulere[\"Location\"]:\n",
    "    try:\n",
    "        final.append(row.split(\" \")[-3])\n",
    "    except:\n",
    "        final.append(\"Other\")\n",
    "surulere[\"Neighborhood\"] = final        "
   ]
  },
  {
   "cell_type": "code",
   "execution_count": 42,
   "metadata": {},
   "outputs": [],
   "source": [
    "final = []\n",
    "for value in surulere[\"Location\"]:\n",
    "    if \"aguda\" in value.lower():\n",
    "        final.append(\"Aguda\")\n",
    "    elif \"thomas\" in value.lower():\n",
    "        final.append(\"Bode thomas\")\n",
    "    elif \"marsha\" in value.lower():\n",
    "        final.append(\"Marsha\")\n",
    "    elif \"ogunlana\" in value.lower():\n",
    "        final.append(\"Ogunlana\")\n",
    "    elif \"lawanson\" in value.lower():\n",
    "        final.append(\"Lawanson\")\n",
    "    elif \"adelabu\" in value.lower():\n",
    "        final.append(\"Adelabu\")\n",
    "    elif \"avenue\" in value.lower():\n",
    "        final.append(\"Randle Avenue\")\n",
    "    elif \"ijesha\" in value.lower():\n",
    "        final.append(\"Ijesha\")\n",
    "    elif \"ojuelegba\" in value.lower():\n",
    "        final.append(\"Ojuelegba\")\n",
    "    # elif \"araba\" in value.lower():\n",
    "    #     final.append(\"Idi Araba\")\n",
    "    else:\n",
    "        final.append(\"Other Surulere\")\n"
   ]
  },
  {
   "cell_type": "code",
   "execution_count": 43,
   "metadata": {},
   "outputs": [
    {
     "name": "stderr",
     "output_type": "stream",
     "text": [
      "C:\\Users\\Mofe\\AppData\\Local\\Temp\\ipykernel_10732\\3164863126.py:1: SettingWithCopyWarning: \n",
      "A value is trying to be set on a copy of a slice from a DataFrame.\n",
      "Try using .loc[row_indexer,col_indexer] = value instead\n",
      "\n",
      "See the caveats in the documentation: https://pandas.pydata.org/pandas-docs/stable/user_guide/indexing.html#returning-a-view-versus-a-copy\n",
      "  surulere[\"Neighborhood\"] = final\n"
     ]
    },
    {
     "data": {
      "text/plain": [
       "Other Surulere    905\n",
       "Aguda             741\n",
       "Bode thomas       372\n",
       "Ogunlana          361\n",
       "Marsha            347\n",
       "Lawanson          288\n",
       "Adelabu           282\n",
       "Randle Avenue     215\n",
       "Ijesha            172\n",
       "Ojuelegba         152\n",
       "Name: Neighborhood, dtype: int64"
      ]
     },
     "execution_count": 43,
     "metadata": {},
     "output_type": "execute_result"
    }
   ],
   "source": [
    "surulere[\"Neighborhood\"] = final\n",
    "surulere[\"Neighborhood\"].value_counts()"
   ]
  },
  {
   "cell_type": "markdown",
   "metadata": {},
   "source": [
    "### Island"
   ]
  },
  {
   "cell_type": "code",
   "execution_count": 44,
   "metadata": {},
   "outputs": [],
   "source": [
    "island = lagos[lagos[\"City\"] == \"Island\"]"
   ]
  },
  {
   "cell_type": "code",
   "execution_count": 45,
   "metadata": {},
   "outputs": [
    {
     "name": "stderr",
     "output_type": "stream",
     "text": [
      "C:\\Users\\Mofe\\AppData\\Local\\Temp\\ipykernel_10732\\828190433.py:7: SettingWithCopyWarning: \n",
      "A value is trying to be set on a copy of a slice from a DataFrame.\n",
      "Try using .loc[row_indexer,col_indexer] = value instead\n",
      "\n",
      "See the caveats in the documentation: https://pandas.pydata.org/pandas-docs/stable/user_guide/indexing.html#returning-a-view-versus-a-copy\n",
      "  island[\"Neighborhood\"] = final\n"
     ]
    }
   ],
   "source": [
    "final = []\n",
    "for row in island[\"Location\"]:\n",
    "    try:\n",
    "        final.append(row.split(\" \")[-4])\n",
    "    except:\n",
    "        final.append(\"Other\")\n",
    "island[\"Neighborhood\"] = final        "
   ]
  },
  {
   "cell_type": "code",
   "execution_count": 46,
   "metadata": {},
   "outputs": [
    {
     "name": "stderr",
     "output_type": "stream",
     "text": [
      "C:\\Users\\Mofe\\AppData\\Local\\Temp\\ipykernel_10732\\1967751598.py:15: SettingWithCopyWarning: \n",
      "A value is trying to be set on a copy of a slice from a DataFrame.\n",
      "Try using .loc[row_indexer,col_indexer] = value instead\n",
      "\n",
      "See the caveats in the documentation: https://pandas.pydata.org/pandas-docs/stable/user_guide/indexing.html#returning-a-view-versus-a-copy\n",
      "  island[\"Neighborhood\"] = final\n"
     ]
    },
    {
     "data": {
      "text/plain": [
       "Oniru                        1360\n",
       "Other Victoria Island         855\n",
       "Victoria Island Extension     146\n",
       "Adeola Odeku                  136\n",
       "Ligali Ayorinde                93\n",
       "1004                           73\n",
       "Name: Neighborhood, dtype: int64"
      ]
     },
     "execution_count": 46,
     "metadata": {},
     "output_type": "execute_result"
    }
   ],
   "source": [
    "final = []\n",
    "for value in island[\"Location\"]:\n",
    "    if \"oniru\" in value.lower():\n",
    "        final.append(\"Oniru\")\n",
    "    elif \"extension\" in value.lower():\n",
    "        final.append(\"Victoria Island Extension\")\n",
    "    elif \"odeku\" in value.lower():\n",
    "        final.append(\"Adeola Odeku\")\n",
    "    elif \"1004\" in value.lower():\n",
    "        final.append(\"1004\")\n",
    "    elif \"ayorinde\" in value.lower():\n",
    "        final.append(\"Ligali Ayorinde\")\n",
    "    else:\n",
    "        final.append(\"Other Victoria Island\")\n",
    "island[\"Neighborhood\"] = final\n",
    "island[\"Neighborhood\"].value_counts()"
   ]
  },
  {
   "cell_type": "markdown",
   "metadata": {},
   "source": [
    "### Gbagada"
   ]
  },
  {
   "cell_type": "code",
   "execution_count": 47,
   "metadata": {},
   "outputs": [],
   "source": [
    "gbagada = lagos[lagos[\"City\"] == \"Gbagada\"]"
   ]
  },
  {
   "cell_type": "code",
   "execution_count": 48,
   "metadata": {},
   "outputs": [
    {
     "name": "stderr",
     "output_type": "stream",
     "text": [
      "C:\\Users\\Mofe\\AppData\\Local\\Temp\\ipykernel_10732\\1730870240.py:7: SettingWithCopyWarning: \n",
      "A value is trying to be set on a copy of a slice from a DataFrame.\n",
      "Try using .loc[row_indexer,col_indexer] = value instead\n",
      "\n",
      "See the caveats in the documentation: https://pandas.pydata.org/pandas-docs/stable/user_guide/indexing.html#returning-a-view-versus-a-copy\n",
      "  gbagada[\"Neighborhood\"] = final\n"
     ]
    }
   ],
   "source": [
    "final = []\n",
    "for row in gbagada[\"Location\"]:\n",
    "    try:\n",
    "        final.append(row.split(\" \")[-3])\n",
    "    except:\n",
    "        final.append(\"Other\")\n",
    "gbagada[\"Neighborhood\"] = final        "
   ]
  },
  {
   "cell_type": "code",
   "execution_count": 49,
   "metadata": {},
   "outputs": [],
   "source": [
    "final = []\n",
    "for value in gbagada[\"Location\"]:\n",
    "    if \"ifako\" in value.lower():\n",
    "        final.append(\"Ifako\")\n",
    "    elif \"1\" in value.lower():\n",
    "        final.append(\"Gbagada Phase 1\")\n",
    "    elif \"2\" in value.lower():\n",
    "        final.append(\"Gbagada Phase 2\")\n",
    "    elif \"soluyi\" in value.lower():\n",
    "        final.append(\"Soluyi\")\n",
    "    elif \"oworonshoki\" in value.lower():\n",
    "        final.append(\"Oworonshoki\")\n",
    "    elif \"ups\" in value.lower():\n",
    "        final.append(\"Millennium Ups\")\n",
    "    elif \"medina\" in value.lower():\n",
    "        final.append(\"Medina\")\n",
    "    else:\n",
    "        final.append(\"Other Gbagada\")\n"
   ]
  },
  {
   "cell_type": "code",
   "execution_count": 50,
   "metadata": {},
   "outputs": [
    {
     "name": "stderr",
     "output_type": "stream",
     "text": [
      "C:\\Users\\Mofe\\AppData\\Local\\Temp\\ipykernel_10732\\4285624229.py:1: SettingWithCopyWarning: \n",
      "A value is trying to be set on a copy of a slice from a DataFrame.\n",
      "Try using .loc[row_indexer,col_indexer] = value instead\n",
      "\n",
      "See the caveats in the documentation: https://pandas.pydata.org/pandas-docs/stable/user_guide/indexing.html#returning-a-view-versus-a-copy\n",
      "  gbagada[\"Neighborhood\"] = final\n"
     ]
    },
    {
     "data": {
      "text/plain": [
       "Ifako              954\n",
       "Soluyi             711\n",
       "Other Gbagada      505\n",
       "Medina             455\n",
       "Millennium Ups     377\n",
       "Gbagada Phase 2    216\n",
       "Gbagada Phase 1    169\n",
       "Oworonshoki        167\n",
       "Name: Neighborhood, dtype: int64"
      ]
     },
     "execution_count": 50,
     "metadata": {},
     "output_type": "execute_result"
    }
   ],
   "source": [
    "gbagada[\"Neighborhood\"] = final\n",
    "gbagada[\"Neighborhood\"].value_counts()"
   ]
  },
  {
   "cell_type": "code",
   "execution_count": 51,
   "metadata": {},
   "outputs": [],
   "source": [
    "lagos = pd.concat([lekki, ikoyi, ikeja, island, ojodu, gbagada, surulere, ajah, yaba]).drop([\"Location\",\"State\", \"Type\"], axis=1)"
   ]
  },
  {
   "cell_type": "code",
   "execution_count": 52,
   "metadata": {},
   "outputs": [],
   "source": [
    "lagos.to_csv(\"data/lagos-rent.csv\", index=False)"
   ]
  }
 ],
 "metadata": {
  "kernelspec": {
   "display_name": "Python 3.9.12 ('base')",
   "language": "python",
   "name": "python3"
  },
  "language_info": {
   "codemirror_mode": {
    "name": "ipython",
    "version": 3
   },
   "file_extension": ".py",
   "mimetype": "text/x-python",
   "name": "python",
   "nbconvert_exporter": "python",
   "pygments_lexer": "ipython3",
   "version": "3.9.12"
  },
  "orig_nbformat": 4,
  "vscode": {
   "interpreter": {
    "hash": "397fa5c989aefacd265b089cd9fa90a007575229207dba4eead3a1aa550249df"
   }
  }
 },
 "nbformat": 4,
 "nbformat_minor": 2
}
